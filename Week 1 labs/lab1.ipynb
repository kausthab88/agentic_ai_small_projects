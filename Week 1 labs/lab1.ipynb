{
 "cells": [
  {
   "cell_type": "markdown",
   "id": "66708a93",
   "metadata": {},
   "source": [
    "#### Building a very basic LLM to LLM conversation "
   ]
  },
  {
   "cell_type": "code",
   "execution_count": null,
   "id": "80641820",
   "metadata": {},
   "outputs": [],
   "source": [
    "from dotenv import load_dotenv ## to load the environment variables from the .env file"
   ]
  },
  {
   "cell_type": "code",
   "execution_count": null,
   "id": "f25e7c6b",
   "metadata": {},
   "outputs": [
    {
     "data": {
      "text/plain": [
       "True"
      ]
     },
     "execution_count": 7,
     "metadata": {},
     "output_type": "execute_result"
    }
   ],
   "source": [
    "load_dotenv(override=True) #loading the environment variables"
   ]
  },
  {
   "cell_type": "code",
   "execution_count": null,
   "id": "dfa4c568",
   "metadata": {},
   "outputs": [],
   "source": [
    "import os #importing os module"
   ]
  },
  {
   "cell_type": "code",
   "execution_count": null,
   "id": "996a5a0a",
   "metadata": {},
   "outputs": [
    {
     "name": "stdout",
     "output_type": "stream",
     "text": [
      "OpenAI API key exists and it starts with sk-proj-...\n"
     ]
    }
   ],
   "source": [
    "openai_api_key = os.getenv(\"OPENAI_API_KEY\")\n",
    "\n",
    "if openai_api_key:\n",
    "    print(f\"OpenAI API key exists and it starts with {openai_api_key[:8]}...\")\n",
    "\n",
    "else:\n",
    "    print(\"Error loading OpenAI API key\")\n"
   ]
  },
  {
   "cell_type": "code",
   "execution_count": 11,
   "id": "51c97d33",
   "metadata": {},
   "outputs": [],
   "source": [
    "from openai import OpenAI"
   ]
  },
  {
   "cell_type": "code",
   "execution_count": null,
   "id": "e024b95b",
   "metadata": {},
   "outputs": [],
   "source": [
    "openai = OpenAI() #instantiating the OpenAI class"
   ]
  },
  {
   "cell_type": "code",
   "execution_count": null,
   "id": "6f0ece81",
   "metadata": {},
   "outputs": [],
   "source": [
    "question = \"Can you think of a business area that will be worth exploring for Agentic AI opportunity\" "
   ]
  },
  {
   "cell_type": "code",
   "execution_count": 28,
   "id": "f5dc9746",
   "metadata": {},
   "outputs": [],
   "source": [
    "messages = [\n",
    "    {\"role\": \"system\", \"content\": question}\n",
    "]\n",
    "\n",
    "\n"
   ]
  },
  {
   "cell_type": "code",
   "execution_count": 29,
   "id": "04b0fa5a",
   "metadata": {},
   "outputs": [
    {
     "name": "stdout",
     "output_type": "stream",
     "text": [
      "Certainly! One promising business area for exploring Agentic AI opportunities is **personalized healthcare**.\n",
      "\n",
      "### Reasons to Explore Personalized Healthcare with Agentic AI:\n",
      "\n",
      "1. **Patient-Centric Approach**: Agentic AI can facilitate tailored treatment plans based on individual patient data, preferences, and genetic information. This could enhance patient engagement and adherence to treatment plans.\n",
      "\n",
      "2. **Predictive Analytics**: By analyzing historical patient data, AI can predict potential health issues before they arise, allowing for early interventions and personalized prevention strategies.\n",
      "\n",
      "3. **Mental Health Support**: AI can provide on-demand mental health support, using natural language processing to interact with users. It can offer coping strategies, schedule therapy sessions, or provide reminders for medications.\n",
      "\n",
      "4. **Automating Administrative Tasks**: AI can streamline administrative processes, such as scheduling appointments, managing patient records, and processing insurance claims, allowing healthcare providers to focus more on patient care.\n",
      "\n",
      "5. **Wearable Technology and Remote Monitoring**: With the rise of wearables that track health metrics, AI can analyze this data in real-time and notify healthcare providers and patients of any anomalies, fostering proactive management of health conditions.\n",
      "\n",
      "6. **Drug Discovery and Development**: Agentic AI can expedite drug discovery by simulating biological interactions and predicting the efficacy of new compounds, thus reducing time and cost in bringing new medications to market.\n",
      "\n",
      "7. **Telehealth Enhancement**: AI can enhance telehealth platforms by providing virtual health assistants that help triage patient symptoms, manage follow-up care, and offer personalized advice based on input data.\n",
      "\n",
      "### Conclusion\n",
      "\n",
      "The integration of Agentic AI into personalized healthcare holds incredible potential to revolutionize how patients interact with the healthcare system, improve outcomes, and enhance operational efficiencies. Organizations that venture into this space can not only drive innovation but also contribute positively to overall public health.\n"
     ]
    }
   ],
   "source": [
    "response = openai.chat.completions.create(\n",
    "    model=\"gpt-4o-mini\",\n",
    "    messages=messages\n",
    ")\n",
    "\n",
    "answer = response.choices[0].message.content\n",
    "\n",
    "print(answer)"
   ]
  },
  {
   "cell_type": "code",
   "execution_count": 30,
   "id": "d7856e74",
   "metadata": {},
   "outputs": [],
   "source": [
    "followup_question = answer +\"What can be some pain points in this area of business?\""
   ]
  },
  {
   "cell_type": "code",
   "execution_count": 32,
   "id": "e9eaa239",
   "metadata": {},
   "outputs": [],
   "source": [
    "messages = [\n",
    "    {\"role\": \"system\", \"content\": followup_question}\n",
    "]\n"
   ]
  },
  {
   "cell_type": "code",
   "execution_count": 33,
   "id": "67ebf2fd",
   "metadata": {},
   "outputs": [
    {
     "name": "stdout",
     "output_type": "stream",
     "text": [
      "Exploring personalized healthcare with Agentic AI certainly presents many opportunities, but there are also several significant pain points that businesses may encounter in this area:\n",
      "\n",
      "### 1. **Data Privacy Concerns**:\n",
      "   - **Regulation Compliance**: Handling sensitive patient data requires strict compliance with regulations like HIPAA (Health Insurance Portability and Accountability Act) in the U.S. and GDPR (General Data Protection Regulation) in Europe. Non-compliance can lead to hefty fines and loss of trust.\n",
      "   - **Data Security**: The risk of data breaches can lead to serious implications for both patients and healthcare providers. Ensuring robust cybersecurity measures is paramount.\n",
      "\n",
      "### 2. **Integration with Existing Systems**:\n",
      "   - **Interoperability Issues**: Many healthcare systems use different technologies and platforms that may not easily integrate. Creating a seamless flow of information across systems can be a complex challenge.\n",
      "   - **Legacy Systems**: Hospitals and healthcare providers may rely on outdated systems that are difficult to upgrade, leading to inefficiencies and resistance to new technology.\n",
      "\n",
      "### 3. **Limited Data Quality and Availability**:\n",
      "   - **Incomplete Data**: Patient records can be incomplete or inconsistent, making it difficult for AI algorithms to function effectively. Ensuring high-quality, standardized data across different sources is crucial.\n",
      "   - **Bias in Data**: If the data used to train AI models is biased, the insights generated may also be biased, leading to disparities in care for different populations.\n",
      "\n",
      "### 4. **User Acceptance and Adoption**:\n",
      "   - **Skepticism from Healthcare Professionals**: Some healthcare providers may be hesitant to trust AI-driven recommendations, fearing a loss of control or job displacement.\n",
      "   - **Patient Trust**: Patients may be skeptical of AI tools and hesitant to rely on technology for their healthcare decisions, fearing a lack of human touch in their care.\n",
      "\n",
      "### 5. **Ethical Considerations**:\n",
      "   - **Decision-Making Responsibility**: The question of who is responsible for clinical decisions informed by AI can create ethical dilemmas. Determining accountability in cases of misdiagnosis or erroneous recommendations is crucial.\n",
      "   - **Equity in Access**: There's a risk that advanced AI healthcare solutions may not be equally accessible to all populations, exacerbating existing health disparities.\n",
      "\n",
      "### 6. **High Development Costs**:\n",
      "   - **Investment in Technology**: Developing and implementing sophisticated AI systems can require significant upfront investment in technology, talent, and infrastructure. Smaller organizations may struggle to compete.\n",
      "\n",
      "### 7. **Continuous Learning Requirements**:\n",
      "   - **Keeping AI Updated**: As medical knowledge evolves, AI models must continuously learn and adapt to accommodate new information, which requires ongoing investment in research and development.\n",
      "\n",
      "### Conclusion\n",
      "\n",
      "While the potential of Agentic AI in personalized healthcare is vast, businesses must navigate these pain points carefully. Strategies that prioritize data privacy, interoperability, user education, and ethical considerations can help mitigate risks and enhance the success of AI initiatives in this critical sector. Engaging stakeholders—including healthcare providers, patients, and regulatory bodies—early in the development process can also foster trust and ensure that solutions are designed with user needs in mind.\n"
     ]
    }
   ],
   "source": [
    "response = openai.chat.completions.create(\n",
    "    model=\"gpt-4o-mini\",\n",
    "    messages=messages\n",
    ")\n",
    "\n",
    "new_answer = response.choices[0].message.content\n",
    "\n",
    "print(new_answer)"
   ]
  },
  {
   "cell_type": "code",
   "execution_count": 34,
   "id": "8824c97e",
   "metadata": {},
   "outputs": [],
   "source": [
    "final_question = followup_question + new_answer + \"What will be your solution to the paint points?\""
   ]
  },
  {
   "cell_type": "code",
   "execution_count": 35,
   "id": "1dbf626e",
   "metadata": {},
   "outputs": [],
   "source": [
    "messages = [{\"role\": \"user\", \"content\": final_question}]"
   ]
  },
  {
   "cell_type": "code",
   "execution_count": 36,
   "id": "1d154b87",
   "metadata": {},
   "outputs": [],
   "source": [
    "response = openai.chat.completions.create(\n",
    "    model=\"gpt-4o-mini\",\n",
    "    messages=messages\n",
    ")\n"
   ]
  },
  {
   "cell_type": "code",
   "execution_count": 37,
   "id": "3d56522c",
   "metadata": {},
   "outputs": [
    {
     "name": "stdout",
     "output_type": "stream",
     "text": [
      "Addressing the pain points in personalized healthcare with Agentic AI requires a multifaceted approach that accounts for the complexities of healthcare systems while prioritizing patient safety, ethical considerations, and operational efficiency. Below are proposed solutions tailored to each identified pain point:\n",
      "\n",
      "### 1. Data Privacy Concerns:\n",
      "- **Robust Compliance Framework**: Develop a comprehensive compliance strategy that incorporates legal, regulatory, and ethical standards from the outset. Leverage AI tools that help monitor compliance continuously and preemptively flag potential breaches.\n",
      "- **Advanced Cybersecurity Measures**: Invest in state-of-the-art cybersecurity protocols such as encryption, multi-factor authentication, and regular security audits to safeguard patient data against breaches.\n",
      "\n",
      "### 2. Integration with Existing Systems:\n",
      "- **Standardized Interoperability Protocols**: Encourage the use of standardized API protocols and healthcare data exchange formats (e.g., FHIR - Fast Healthcare Interoperability Resources) to enhance compatibility between systems.\n",
      "- **Phased Implementation Plan**: Implement AI solutions in phases, allowing for gradual integration with legacy systems and minimizing disruption. Focus on interoperability solutions that can act as bridges between old and new systems.\n",
      "\n",
      "### 3. Limited Data Quality and Availability:\n",
      "- **Comprehensive Data Collection Initiatives**: Partner with healthcare institutions to facilitate comprehensive data collection and cleaning initiatives to ensure high data quality across different healthcare sources.\n",
      "- **Bias Mitigation Framework**: Implement mechanisms to continually assess and mitigate biases in data by diversifying training datasets and employing fairness algorithms that ensure equitable treatment outcomes across demographics.\n",
      "\n",
      "### 4. User Acceptance and Adoption:\n",
      "- **Stakeholder Education Programs**: Develop training programs for healthcare professionals to familiarize them with AI tools, highlighting their roles as decision-support systems rather than replacements. Offer evidence-based demonstrations of AI efficacy.\n",
      "- **Patient Engagement Strategies**: Initiate awareness campaigns to educate patients about the benefits and limitations of AI in personalized healthcare. Use testimonials and success stories to build trust.\n",
      "\n",
      "### 5. Ethical Considerations:\n",
      "- **Clear Ethical Guidelines**: Establish comprehensive guidelines for AI use that address accountability in clinical decision-making, ensuring clarity regarding the roles of both AI and human providers.\n",
      "- **Equitable Access Initiatives**: Collaborate with health policy stakeholders to ensure equitable access to AI tools across various demographics and settings, ensuring affordability and availability in underserved communities.\n",
      "\n",
      "### 6. High Development Costs:\n",
      "- **Partnerships and Collaborations**: Leverage partnerships with academic institutions and technology firms for shared research and resources, reducing the financial burden on smaller organizations.\n",
      "- **Incremental Funding Approaches**: Explore phased funding strategies, grants, and public-private partnerships to support AI initiatives while assessing short-term outcomes and scaling accordingly.\n",
      "\n",
      "### 7. Continuous Learning Requirements:\n",
      "- **Adaptive Learning Frameworks**: Develop AI models capable of continuous learning from new data inputs in real time. Invest in infrastructure that allows systems to adapt based on updated medical research and clinical guidelines.\n",
      "- **Dedicated R&D Teams**: Establish teams specifically focused on continuous improvement and innovation for AI applications, ensuring ongoing education and adaptation to the latest healthcare advancements.\n",
      "\n",
      "### Conclusion\n",
      "To successfully navigate the challenges associated with implementing Agentic AI in personalized healthcare, businesses must adopt a proactive, user-centered, and ethical approach. By focusing on comprehensive strategies that promote data security, stakeholder education, equitable access, and system interoperability, organizations can leverage the benefits of AI while minimizing risks. Engaging with all stakeholders—healthcare professionals, patients, and regulatory entities—will be crucial in building trust and ensuring the successful integration of AI technologies in healthcare.\n"
     ]
    }
   ],
   "source": [
    "final_answer = response.choices[0].message.content\n",
    "\n",
    "print(final_answer)"
   ]
  },
  {
   "cell_type": "code",
   "execution_count": null,
   "id": "9e9804dd",
   "metadata": {},
   "outputs": [],
   "source": []
  },
  {
   "cell_type": "code",
   "execution_count": null,
   "id": "efb85f65",
   "metadata": {},
   "outputs": [],
   "source": []
  },
  {
   "cell_type": "code",
   "execution_count": null,
   "id": "d5247d3d",
   "metadata": {},
   "outputs": [],
   "source": []
  },
  {
   "cell_type": "code",
   "execution_count": null,
   "id": "711574ea",
   "metadata": {},
   "outputs": [],
   "source": []
  },
  {
   "cell_type": "code",
   "execution_count": null,
   "id": "cea24520",
   "metadata": {},
   "outputs": [],
   "source": []
  },
  {
   "cell_type": "code",
   "execution_count": null,
   "id": "ea6b57fa",
   "metadata": {},
   "outputs": [],
   "source": []
  },
  {
   "cell_type": "code",
   "execution_count": null,
   "id": "92a71138",
   "metadata": {},
   "outputs": [],
   "source": []
  },
  {
   "cell_type": "code",
   "execution_count": null,
   "id": "a3de153d",
   "metadata": {},
   "outputs": [],
   "source": []
  },
  {
   "cell_type": "code",
   "execution_count": null,
   "id": "9194935e",
   "metadata": {},
   "outputs": [],
   "source": []
  },
  {
   "cell_type": "code",
   "execution_count": null,
   "id": "98f8540f",
   "metadata": {},
   "outputs": [],
   "source": []
  },
  {
   "cell_type": "code",
   "execution_count": null,
   "id": "e35c57d1",
   "metadata": {},
   "outputs": [],
   "source": []
  },
  {
   "cell_type": "code",
   "execution_count": null,
   "id": "164b02d1",
   "metadata": {},
   "outputs": [],
   "source": []
  },
  {
   "cell_type": "code",
   "execution_count": null,
   "id": "4c70e99f",
   "metadata": {},
   "outputs": [],
   "source": []
  },
  {
   "cell_type": "code",
   "execution_count": null,
   "id": "b8b0e731",
   "metadata": {},
   "outputs": [],
   "source": []
  },
  {
   "cell_type": "code",
   "execution_count": null,
   "id": "a0016f6b",
   "metadata": {},
   "outputs": [],
   "source": []
  },
  {
   "cell_type": "code",
   "execution_count": null,
   "id": "6a9e2d83",
   "metadata": {},
   "outputs": [],
   "source": []
  },
  {
   "cell_type": "code",
   "execution_count": null,
   "id": "ffd095d3",
   "metadata": {},
   "outputs": [],
   "source": []
  },
  {
   "cell_type": "code",
   "execution_count": null,
   "id": "7c23151c",
   "metadata": {},
   "outputs": [],
   "source": []
  },
  {
   "cell_type": "code",
   "execution_count": null,
   "id": "ec1926e2",
   "metadata": {},
   "outputs": [],
   "source": []
  },
  {
   "cell_type": "code",
   "execution_count": null,
   "id": "ac8f35eb",
   "metadata": {},
   "outputs": [],
   "source": []
  },
  {
   "cell_type": "code",
   "execution_count": null,
   "id": "b6e418ac",
   "metadata": {},
   "outputs": [],
   "source": []
  },
  {
   "cell_type": "code",
   "execution_count": null,
   "id": "0aa2c373",
   "metadata": {},
   "outputs": [],
   "source": []
  },
  {
   "cell_type": "code",
   "execution_count": null,
   "id": "af080266",
   "metadata": {},
   "outputs": [],
   "source": []
  },
  {
   "cell_type": "code",
   "execution_count": null,
   "id": "39d05039",
   "metadata": {},
   "outputs": [],
   "source": []
  },
  {
   "cell_type": "code",
   "execution_count": null,
   "id": "d9433f64",
   "metadata": {},
   "outputs": [],
   "source": []
  },
  {
   "cell_type": "code",
   "execution_count": null,
   "id": "ec8cee58",
   "metadata": {},
   "outputs": [],
   "source": []
  }
 ],
 "metadata": {
  "kernelspec": {
   "display_name": ".venv",
   "language": "python",
   "name": "python3"
  },
  "language_info": {
   "codemirror_mode": {
    "name": "ipython",
    "version": 3
   },
   "file_extension": ".py",
   "mimetype": "text/x-python",
   "name": "python",
   "nbconvert_exporter": "python",
   "pygments_lexer": "ipython3",
   "version": "3.11.13"
  }
 },
 "nbformat": 4,
 "nbformat_minor": 5
}
