{
 "cells": [
  {
   "cell_type": "markdown",
   "id": "20b4c3b1",
   "metadata": {},
   "source": [
    "## Integrating tools with Agents"
   ]
  },
  {
   "cell_type": "code",
   "execution_count": 3,
   "id": "b67a0fa6",
   "metadata": {},
   "outputs": [],
   "source": [
    "from dotenv import load_dotenv\n",
    "from openai import OpenAI\n",
    "import json\n",
    "import os\n",
    "import requests\n",
    "from PyPDF2 import PdfReader\n",
    "import gradio as gr"
   ]
  },
  {
   "cell_type": "code",
   "execution_count": 4,
   "id": "e77d1037",
   "metadata": {},
   "outputs": [],
   "source": [
    "load_dotenv(override=True)\n",
    "\n",
    "openai = OpenAI()"
   ]
  },
  {
   "cell_type": "code",
   "execution_count": 7,
   "id": "5ca39aa5",
   "metadata": {},
   "outputs": [],
   "source": [
    "pushover_user = os.getenv(\"PUSHOVER_USER\")\n",
    "pushover_token = os.getenv(\"PUSHOVER_TOKEN\")\n",
    "pushover_url = \"https://api.pushover.net/1/messages.json\""
   ]
  },
  {
   "cell_type": "code",
   "execution_count": 8,
   "id": "4581e1d7",
   "metadata": {},
   "outputs": [],
   "source": [
    "def push(message):\n",
    "    print(f\"Push: {message}\")\n",
    "    payload = {\"user\": pushover_user, \"token\": pushover_token, \"message\": message}\n",
    "    requests.post(pushover_url, data = payload)"
   ]
  },
  {
   "cell_type": "code",
   "execution_count": 9,
   "id": "48019b00",
   "metadata": {},
   "outputs": [
    {
     "name": "stdout",
     "output_type": "stream",
     "text": [
      "Push: hey there!\n"
     ]
    }
   ],
   "source": [
    "push(\"hey there!\")"
   ]
  },
  {
   "cell_type": "markdown",
   "id": "37a40959",
   "metadata": {},
   "source": [
    "Building tools in the form of functions that the LLM can call and use"
   ]
  },
  {
   "cell_type": "code",
   "execution_count": 12,
   "id": "7c6a3b8a",
   "metadata": {},
   "outputs": [],
   "source": [
    "def record_user_details(email, name=\"Name not provided\", notes = \"not provided\"):\n",
    "    push(f\"Recording interest from {name} with email {email} and notes {notes}\")\n",
    "    return {\"recorded\": \"ok\"}"
   ]
  },
  {
   "cell_type": "code",
   "execution_count": 16,
   "id": "5cde0ab0",
   "metadata": {},
   "outputs": [],
   "source": [
    "def record_unknown_question(question):\n",
    "    push(f\"Recording {question} asked that I could not answer\")\n",
    "    return {\"recorded\": \"ok\"}"
   ]
  },
  {
   "cell_type": "markdown",
   "id": "58fbee71",
   "metadata": {},
   "source": [
    "The following json calls the function tool we have described earlier and describes the capability of the tool/function \n",
    "\n",
    "This is the information that goes to OpenAI to work on"
   ]
  },
  {
   "cell_type": "code",
   "execution_count": 60,
   "id": "808c1b75",
   "metadata": {},
   "outputs": [],
   "source": [
    "record_user_details_json = {\n",
    "    \"name\": \"record_user_details\",\n",
    "    \"description\": \"Use this tool to record a user's interest in being in touch and provided an email address\",\n",
    "    \"parameters\": {\n",
    "        \"type\": \"object\",\n",
    "        \"properties\": {\n",
    "            \"email\": {\n",
    "                \"type\": \"string\",\n",
    "                \"description\": \"the email address of this user\"\n",
    "            },\n",
    "            \"name\": {\n",
    "                \"type\": \"string\",\n",
    "                \"description\": \"the user's name, if they provided it\"\n",
    "            },\n",
    "            \"notes\": {\n",
    "                \"type\": \"string\",\n",
    "                \"description\": \"Any additional information about the conversation that's worth recording to give context\"\n",
    "            }            \n",
    "        },\n",
    "        \"required\": [\"email\"],\n",
    "        \"additionalProperties\": False\n",
    "    }\n",
    "}"
   ]
  },
  {
   "cell_type": "code",
   "execution_count": 61,
   "id": "76682c9d",
   "metadata": {},
   "outputs": [],
   "source": [
    "record_unknown_question_json = {\n",
    "    \"name\": \"record_unknown_question\",\n",
    "    \"description\": \"Always use this tool to record any question that couldn't be answered as you didn't know the answer\",\n",
    "    \"parameters\": {\n",
    "        \"type\": \"object\",\n",
    "        \"properties\": {\n",
    "            \"question\": {\n",
    "                \"type\": \"string\",\n",
    "                \"description\": \"The question that couldn't be answered\"\n",
    "            },\n",
    "        },\n",
    "        \"required\": [\"question\"],\n",
    "        \"additionalProperties\": False \n",
    "    }\n",
    "}"
   ]
  },
  {
   "cell_type": "code",
   "execution_count": 62,
   "id": "f002cc61",
   "metadata": {},
   "outputs": [],
   "source": [
    "tools = [{\"type\": \"function\", \"function\": record_user_details_json },\n",
    "        {\"type\": \"function\", \"function\": record_unknown_question_json }]"
   ]
  },
  {
   "cell_type": "code",
   "execution_count": 63,
   "id": "f906c2d7",
   "metadata": {},
   "outputs": [
    {
     "data": {
      "text/plain": [
       "[{'type': 'function',\n",
       "  'function': {'name': 'record_user_details',\n",
       "   'description': \"Use this tool to record a user's interest in being in touch and provided an email address\",\n",
       "   'parameters': {'type': 'object',\n",
       "    'properties': {'email': {'type': 'string',\n",
       "      'description': 'the email address of this user'},\n",
       "     'name': {'type': 'string',\n",
       "      'description': \"the user's name, if they provided it\"},\n",
       "     'notes': {'type': 'string',\n",
       "      'description': \"Any additional information about the conversation that's worth recording to give context\"}},\n",
       "    'required': ['email'],\n",
       "    'additionalProperties': False}}},\n",
       " {'type': 'function',\n",
       "  'function': {'name': 'record_unknown_question',\n",
       "   'description': \"Always use this tool to record any question that couldn't be answered as you didn't know the answer\",\n",
       "   'parameters': {'type': 'object',\n",
       "    'properties': {'question': {'type': 'string',\n",
       "      'description': \"The question that couldn't be answered\"}},\n",
       "    'required': ['question'],\n",
       "    'additionalProperties': False}}}]"
      ]
     },
     "execution_count": 63,
     "metadata": {},
     "output_type": "execute_result"
    }
   ],
   "source": [
    "tools"
   ]
  },
  {
   "cell_type": "markdown",
   "id": "0c7c5b3b",
   "metadata": {},
   "source": [
    "The following function will run when the LLM decides that it wants to run one of these tools"
   ]
  },
  {
   "cell_type": "code",
   "execution_count": 64,
   "id": "f729b599",
   "metadata": {},
   "outputs": [],
   "source": [
    "def handle_tool_calls(tool_calls):\n",
    "    results = []\n",
    "    for tool_call in tool_calls:\n",
    "        tool_name = tool_call.function.name\n",
    "        arguments = json.loads(tool_call.function.arguments)\n",
    "        print(f\"Tool called: {tool_name}\", flush = True)\n",
    "\n",
    "        if tool_name == \"record_user_details\":\n",
    "            result = record_user_details(**arguments)\n",
    "        elif tool_name == \"record_unknown_question\":\n",
    "            result = record_unknown_question(**arguments)\n",
    "\n",
    "        results.append({\"role\": \"tool\", \"content\": json.dumps(result), \"tool_call_id\": tool_call.id})\n",
    "    return results\n"
   ]
  },
  {
   "cell_type": "code",
   "execution_count": 25,
   "id": "4ae83b2d",
   "metadata": {},
   "outputs": [
    {
     "name": "stdout",
     "output_type": "stream",
     "text": [
      "Push: Recording this is a really hard question asked that I could not answer\n"
     ]
    },
    {
     "data": {
      "text/plain": [
       "{'recorded': 'ok'}"
      ]
     },
     "execution_count": 25,
     "metadata": {},
     "output_type": "execute_result"
    }
   ],
   "source": [
    "globals()[\"record_unknown_question\"](\"this is a really hard question\") #globals "
   ]
  },
  {
   "cell_type": "markdown",
   "id": "5cc1a373",
   "metadata": {},
   "source": [
    "Changing the fucnction to use \"globals\""
   ]
  },
  {
   "cell_type": "code",
   "execution_count": 69,
   "id": "92ef6fcf",
   "metadata": {},
   "outputs": [],
   "source": [
    "def handle_tool_calls(tool_calls):\n",
    "    results = []\n",
    "    for tool_call in tool_calls:\n",
    "        tool_name = tool_call.function.name\n",
    "        arguments = json.loads(tool_call.function.arguments)\n",
    "        print(f\"Tool called: {tool_name}\", flush = True)\n",
    "        tool = globals()[tool_name]\n",
    "        result = tool(**arguments) if tool else {}\n",
    "        results.append({\"role\": \"tool\", \"content\": json.dumps(result), \"tool_call_id\": tool_call.id})\n",
    "    return results"
   ]
  },
  {
   "cell_type": "code",
   "execution_count": 28,
   "id": "f31daabf",
   "metadata": {},
   "outputs": [],
   "source": [
    "loc = r\"C:\\Users\\KAUSTHAB DUTTA\\Documents\\practce_agentic_ai_project\\projects\\data_files\\me.pdf\""
   ]
  },
  {
   "cell_type": "code",
   "execution_count": 55,
   "id": "5b496dd4",
   "metadata": {},
   "outputs": [],
   "source": [
    "reader = PdfReader(loc)\n",
    "\n",
    "linkedin = \"\"\n",
    "for page in reader.pages:\n",
    "    text = page.extract_text()\n",
    "    if text:\n",
    "        linkedin = linkedin + text \n",
    "\n"
   ]
  },
  {
   "cell_type": "code",
   "execution_count": 32,
   "id": "1e56a799",
   "metadata": {},
   "outputs": [
    {
     "name": "stdout",
     "output_type": "stream",
     "text": [
      "   \n",
      "Contact\n",
      "+14375564666  (Mobile)\n",
      "kausthab.dutta1987@gmail.co\n",
      "m\n",
      "www.linkedin.com/in/kduttap\n",
      "(LinkedIn)\n",
      "Top Skills\n",
      "Natural Language Processing (NLP)\n",
      "Predictive Analytics\n",
      "Datasets\n",
      "Languages\n",
      "Assamese  (Native or Bilingual)\n",
      "Hindi  (Native or Bilingual)\n",
      "Gujarati  (Limited Working)\n",
      "English  (Full Professional)\n",
      "Certifications\n",
      "Certified NLP Coach\n",
      "AMCAT Certified Proficiency in\n",
      "English\n",
      "SQL Intermediate\n",
      "Analyzing and Visualizing Data with\n",
      "Microsoft Power BI\n",
      "Certificate of Completion - Assistant\n",
      "Project Manager\n",
      "Honors-Awards\n",
      "Rising Star Award 2015Kausthab Dutta Phukan\n",
      "Data Scientist Helping Others Transform Their Careers | Sales to\n",
      "Data Science | Analytics Mentor | Product Development | Social\n",
      "Impact through Analytics Projects\n",
      "Hamilton, Ontario, Canada\n",
      "Summary\n",
      "As a seasoned professional with over 10 years of experience, I\n",
      "specialize in data science, artificial intelligence (AI), and product\n",
      "development. My expertise lies in applying deep learning and\n",
      "computer vision techniques to solve real-world problems, such as\n",
      "highway pavement degradation in Nigeria and enhancing the real\n",
      "estate industry in Bangladesh through AI-powered recommendation\n",
      "platforms.\n",
      "My strength is my ability to leverage large language models and\n",
      "statistical analysis to understand patterns and make data-driven\n",
      "decisions. Using drone images, I have successfully developed\n",
      "models for identifying degraded asphalt pavements, significantly\n",
      "reducing on-site observation time and traffic disruption. In addition,\n",
      "my work on the PropertyAI platform has improved transparency in\n",
      "the real estate sector by providing reliable data that aids buyers and\n",
      "sellers make informed decisions.\n",
      "I am adept at managing datasets, training models, and visualizing\n",
      "data using tools like Hive, SQL, and Python. My unique blend of\n",
      "business development skills allows me to foster relationships with\n",
      "channel partners and manage projects effectively.\n",
      "If you have an intriguing problem or an idea that can be solved or\n",
      "enhanced with data science, let's connect. Let's harness the power\n",
      "of AI together to create innovative solutions for your business needs.\n",
      "Experience\n",
      "Great Learning\n",
      "Data Science Mentor\n",
      "December 2021 - Present  (3 years 9 months)\n",
      "Bengaluru, Karnataka, India\n",
      "  Page 1 of 5   \n",
      "Omdena Toronto Chapter\n",
      "Lead\n",
      "June 2023 - April 2025  (1 year 11 months)\n",
      "Toronto, Ontario, Canada\n",
      "Omdena\n",
      "7 months\n",
      "Lead Machine Learning Engineer\n",
      "August 2023 - November 2023  (4 months)\n",
      "Toronto, Ontario, Canada\n",
      "Junior Machine Learning Engineer\n",
      "May 2023 - September 2023  (5 months)\n",
      "Ontario, Canada\n",
      "Omdena Nigeria Chapter\n",
      "Data Scientist\n",
      "March 2023 - July 2023  (5 months)\n",
      "Problem Statement: \n",
      "Highway pavement degradation is a prevalent situation in Nigeria. The regular\n",
      "operation will be for Engineers or observation onsite. Due to the large land\n",
      "mass of Nigeria and the harsh weather condition, it becomes stressful and\n",
      "time-consuming to use the regular way of onsite observation. This could also\n",
      "disrupt traffic on the highway.\n",
      "Using Deep learning and computer vision to identify and also classify these\n",
      "degraded asphalt pavement using drone images all in real-time.\n",
      "Though much research has tried to build models, this project will try to\n",
      "increase the classes and also address Highways in Nigeria\n",
      "Omdena Bangladesh Chapter\n",
      "Task Lead\n",
      "March 2023 - May 2023  (3 months)\n",
      "Greater Toronto Area, Canada\n",
      "Developing an AI-powered Recommendation Platform for the Real Estate\n",
      "Industry in Bangladesh: PropertyAI\n",
      "Project Goals:\n",
      "1. Collect and analyze real estate data:\n",
      "  Page 2 of 5   \n",
      "We aim to collect and analyze data on real estate transactions, land prices,\n",
      "and surrounding facilities, using AI and machine learning algorithms to\n",
      "identify patterns and trends. This data will be presented in a user-friendly and\n",
      "accessible format, allowing consumers and developers to make informed\n",
      "decisions about properties.\n",
      "2. Improve transparency and information symmetry:\n",
      "We will improve transparency and information symmetry in the real estate\n",
      "sector in Bangladesh, by providing reliable and comprehensive data to users.\n",
      "This could help to reduce corruption and other illegal practices in the sector\n",
      "and increase public trust and confidence in real estate transactions.\n",
      "3. Provide better recommendations:\n",
      "The platform should leverage AI to provide better recommendations to users,\n",
      "based on their individual preferences and needs along with AI’s outcomes from\n",
      "the recommender engine. For example, the platform could recommend similar\n",
      "properties based on the user’s budget, location preferences, or other criteria,\n",
      "and provide insights on the best time to buy or sell.\n",
      "4. Foster a more efficient real estate market:\n",
      "By providing valuable insights and recommendations to consumers and\n",
      "developers, the platform should help to foster a more efficient and competitive\n",
      "real estate market in Bangladesh. This could ultimately benefit both buyers\n",
      "and sellers, by improving the quality and transparency of real estate\n",
      "transactions and increasing the overall value of the sector.\n",
      "TheMathCompany\n",
      "Associate Data Scientist\n",
      "October 2022 - February 2023  (5 months)\n",
      "Canada\n",
      "TheMathCompany\n",
      "Associate\n",
      "June 2021 - July 2022  (1 year 2 months)\n",
      "Bangalore Urban, Karnataka, India\n",
      "Mantra Properties and Developers\n",
      "  Page 3 of 5   \n",
      "Senior Manager\n",
      "November 2018 - April 2020  (1 year 6 months)\n",
      "GudFud inc.\n",
      "Independent Business Owner\n",
      "July 2016 - August 2018  (2 years 2 months)\n",
      "Pune Area, India\n",
      "We offer homely food which is Hygienic and affordable to corporates, PG,\n",
      "Hostels etc etc.\n",
      "Lodha Group\n",
      "Deputy Manager Sales\n",
      "July 2015 - June 2016  (1 year)\n",
      "Luxury Real Estate Sales\n",
      "Xeeva, Inc.\n",
      "MarketPlace Analyst\n",
      "June 2014 - July 2015  (1 year 2 months)\n",
      "Bhopal, Madhya Pradesh\n",
      "Supplier Development\n",
      "Negotiation\n",
      "Spend Management\n",
      "Spend Analytics\n",
      "ICICI Lombard\n",
      "Sales Manager-Geo Structure\n",
      "March 2013 - June 2014  (1 year 4 months)\n",
      "Guwahati\n",
      "Channel Management: working closely with channel partners and helping them\n",
      "in enhancing their business.providing them with vital statistics to boost sales.\n",
      "Agency development: identifying potential agents in the GI industry. convert\n",
      "competitor agents.\n",
      "Team management\n",
      "Handling the Bancassurance vertical\n",
      "Education\n",
      "  Page 4 of 5   \n",
      "Great Lakes Institute of Management\n",
      "Executive Learning, Data Science and Business Analytics  · (2020 - 2021)\n",
      "Defense Institute of Advanced Technology (DIAT), DU, DRDO\n",
      "Certificate Course on Artificial Intelligence & Machine Learning, Artificial\n",
      "Intelligence & Machine Learning  · (February 2021 - May 2021)\n",
      "ICFAI BUSINESS SCHOOL,HYDERABAD\n",
      "MBA, Marketing\n",
      "Lukhdhirji Engineering College\n",
      "B.E, Production\n",
      "Cotton College, Guwahati\n",
      "+2, Science\n",
      "  Page 5 of 5\n"
     ]
    }
   ],
   "source": [
    "print(linkedin)"
   ]
  },
  {
   "cell_type": "code",
   "execution_count": 56,
   "id": "7f440e80",
   "metadata": {},
   "outputs": [],
   "source": [
    "with open(r\"C:\\Users\\KAUSTHAB DUTTA\\Documents\\practce_agentic_ai_project\\projects\\data_files\\profile.txt\",\"r\") as f:\n",
    "    summary = f.read()\n",
    "\n",
    "name = \"Kausthab\""
   ]
  },
  {
   "cell_type": "code",
   "execution_count": 40,
   "id": "52eee05a",
   "metadata": {},
   "outputs": [
    {
     "data": {
      "text/plain": [
       "'Kausthab Dutta Phukan\\nHamilton, Ontario, Canada\\n+1 (437)-556-4666 | kausthab.dutta@outlook.com\\nLinkedIn Profile | GitHub Profile\\nPermanent Resident | Open to Hybrid Roles | Available Immediately________________________________________\\nPROFESSIONAL SUMMARY\\nData Scientist with 3+ years of experience in machine learning, advanced statistical methods, and data-driven decision-making. Proven expertise in developing predictive models, automating data pipelines, and creating actionable insights for stakeholders. Skilled in Python, TensorFlow, SQL, and Power BI, with a strong ability to collaborate across departments and translate complex data into strategic recommendations. Passionate about solving business problems through innovative data solutions and staying current with emerging trends in AI and machine learning.________________________________________\\nTECHNICAL SKILLS\\nâ€¢\\tMachine Learning: Linear/Logistic Regression, Decision Trees, Random Forest, CNN, NLP, TensorFlow, scikit-learn\\nâ€¢\\tProgramming: Python, SQL (MySQL, PostgreSQL), R (Basic)\\nâ€¢\\tData Tools: Power BI, Looker, Mode, AWS EC2, GitHub\\nâ€¢\\tData Management: ETL Pipelines, Data Warehousing, A/B Testing, Statistical Analysis\\nâ€¢\\tSoft Skills: Cross-functional Collaboration, Stakeholder Communication, Problem-Solving, Time Management\\n________________________________________\\nPROFESSIONAL EXPERIENCE\\nGreat Learning (McCombs School of Business, University of Texas, Austin)\\nData Science Mentor | Dec 2021 â€“ Present\\nâ€¢\\tRanked top 10 North American mentor, designing and delivering data science curricula focused on machine learning, statistical analysis, and data storytelling.\\nâ€¢\\tLed technical workshops on predictive modeling (e.g., regression, clustering) and coached 1000+ professionals to build data-driven solutions aligned with business goals.\\nâ€¢\\tCollaborated with cross-functional teams to ensure content delivery met organizational objectives, fostering a culture of data-driven decision-making.\\n\\n\\n\\nOmdena (Volunteer)\\nLead Machine Learning Engineer & Toronto Chapter Lead | Mar 2023 â€“ Present\\nâ€¢\\tAI Chatbot for Canadian Immigrant Applicants: Spearheaded the development of an NLP-based chatbot using LLM frameworks, deploying the solution on AWS EC2. Acted as product manager, aligning technical outputs with user needs and business goals.\\nâ€¢\\tEarly Alzheimerâ€™s Detection: Led a self-initiated project using CNN and transfer learning to identify early Alzheimerâ€™s from brain scans, achieving 92% accuracy.\\nâ€¢\\tReal Estate Recommender System: Developed a Python-based recommender system using collaborative filtering, improving user engagement by 15%.\\nâ€¢\\tSkills Demonstrated: Cross-department collaboration, innovative problem-solving, and translating technical models into actionable business strategies.\\nTheMathCompany\\nAssociate Consultant (Data Science) | Jun 2021 â€“ Feb 2023\\nâ€¢\\tDesigned and executed A/B testing strategies analyzing 1M+ user interactions, delivering data-backed recommendations that increased conversion rates by 2% \\nâ€¢\\tDeveloped real-time Looker dashboards integrating 5+ data sources for 300+ stakeholders, reducing decision-making time by 40% \\nâ€¢\\tEngineered complex SQL queries and stored procedures to analyze 2M+ daily transactions, delivering ad-hoc business insights that improved user engagement by 45% \\nâ€¢\\tEngineered automated analytics workflows processing user behaviour data across multiple touchpoints, identifying key engagement patterns \\nâ€¢\\tArchitected global Power BI solution integrating complex data sources (IQVIA, IPSOS, internal databases), creating role-specific dashboards for a global workforce across 5 geographic regions\\n________________________________________\\nKEY PROJECTS\\nCanPolicy Insight | Omdena Toronto Chapter\\nTechnologies: Python, LangChain, Pinecone\\nâ€¢\\tEngineered a similarity search algorithm to analyze policy document trends, improving alignment with regulatory requirements.\\nâ€¢\\tCollaborated with cross-functional teams to ensure data quality and relevance for strategic decision-making.\\n\\n\\nEarly Alzheimerâ€™s Detection (Self-Initiated)\\nTechnologies: CNN, Transfer Learning\\nâ€¢\\tDeveloped a model to identify early Alzheimerâ€™s from brain scans, achieving 92% accuracy. Validated results through statistical performance metrics.\\n________________________________________\\nEDUCATION & DEVELOPMENT\\nâ€¢\\tCertificate in Practical Data Science & Deep Learning | Toronto Metropolitan University\\nâ€¢\\tPG Program in Data Science & Business Analytics | Great Lakes Executive Learning & McCombs School of Business\\nâ€¢\\tBachelor of Engineering (Production) | Lukhdhirji Engineering College\\nâ€¢\\tAI Conference Participant | Toronto Machine Learning Society (July 2023)\\n________________________________________\\nVOLUNTEER EXPERIENCE\\nâ€¢\\tHabitat for Humanity, Hamilton | ReStore Volunteer - Dec 2024 - Present\\nâ€¢\\tMount Hamilton Youth Soccer Club | Coach â€“ Oct 2024 - Present\\n________________________________________\\n'"
      ]
     },
     "execution_count": 40,
     "metadata": {},
     "output_type": "execute_result"
    }
   ],
   "source": [
    "summary"
   ]
  },
  {
   "cell_type": "code",
   "execution_count": 57,
   "id": "b23f0db9",
   "metadata": {},
   "outputs": [],
   "source": [
    "system_prompt = f\"\"\"You are acting as {name}. You are answering questions on behalf of {name} on {name}'s career website. People will visit their website and \\\n",
    "interact with you and you will answer all questions truthfully and in an egaging manner. Be courteous and empathetic. If you do not know the answer to any \\\n",
    "question, use the record_unknown_question tool to record question even if that question is not related to {name}'s career. Also, if a user is engaging in a \\\n",
    "discussion, try to steer them towards getting in touch vis email; ask for their email and record their response using your record_user_details tool. In order \\\n",
    "to better equip you, you will be given context of {name}'s LinkedIn and a snapshot of their resume/profile, so that you can engage with potential recruiters \\\n",
    "or clinets in a professional and engaging manner\"\"\"\n",
    "\n",
    "system_prompt += f\"\"\"\\n\\n Summary:\\n{summary}\\n\\n## LinkedIn Profile: \\n{linkedin}\\n\\n\"\"\"\n",
    "system_prompt += f\"with this context, please chat with the user, always staying in character as {name}.\""
   ]
  },
  {
   "cell_type": "code",
   "execution_count": 37,
   "id": "f29781a4",
   "metadata": {},
   "outputs": [
    {
     "data": {
      "text/plain": [
       "\"You are acting as Kausthab. You are answering questions on behalf of Kausthab on Kausthab's career website. People will visit their website and interact with you and you will answer all questions truthfully and in an egaging manner. Be courteous and empathetic. If you do not know the answer to any question, use the record_unknown_question tool to record question even if that question is not related to Kausthab's career. Also, if a user is engaging in a discussion, try to steer them towards getting in touch vis email; ask for their email and record their response using your record_user_details tool. In order to better equip you, you will be given context of Kausthab's LinkedIn and a snapshot of their resume/profile, so that you can engage with potential recruiters or clinets in a professional and engaging manner\\n\\n Summary:\\nKausthab Dutta Phukan\\nHamilton, Ontario, Canada\\n+1 (437)-556-4666 | kausthab.dutta@outlook.com\\nLinkedIn Profile | GitHub Profile\\nPermanent Resident | Open to Hybrid Roles | Available Immediately________________________________________\\nPROFESSIONAL SUMMARY\\nData Scientist with 3+ years of experience in machine learning, advanced statistical methods, and data-driven decision-making. Proven expertise in developing predictive models, automating data pipelines, and creating actionable insights for stakeholders. Skilled in Python, TensorFlow, SQL, and Power BI, with a strong ability to collaborate across departments and translate complex data into strategic recommendations. Passionate about solving business problems through innovative data solutions and staying current with emerging trends in AI and machine learning.________________________________________\\nTECHNICAL SKILLS\\nâ€¢\\tMachine Learning: Linear/Logistic Regression, Decision Trees, Random Forest, CNN, NLP, TensorFlow, scikit-learn\\nâ€¢\\tProgramming: Python, SQL (MySQL, PostgreSQL), R (Basic)\\nâ€¢\\tData Tools: Power BI, Looker, Mode, AWS EC2, GitHub\\nâ€¢\\tData Management: ETL Pipelines, Data Warehousing, A/B Testing, Statistical Analysis\\nâ€¢\\tSoft Skills: Cross-functional Collaboration, Stakeholder Communication, Problem-Solving, Time Management\\n________________________________________\\nPROFESSIONAL EXPERIENCE\\nGreat Learning (McCombs School of Business, University of Texas, Austin)\\nData Science Mentor | Dec 2021 â€“ Present\\nâ€¢\\tRanked top 10 North American mentor, designing and delivering data science curricula focused on machine learning, statistical analysis, and data storytelling.\\nâ€¢\\tLed technical workshops on predictive modeling (e.g., regression, clustering) and coached 1000+ professionals to build data-driven solutions aligned with business goals.\\nâ€¢\\tCollaborated with cross-functional teams to ensure content delivery met organizational objectives, fostering a culture of data-driven decision-making.\\n\\n\\n\\nOmdena (Volunteer)\\nLead Machine Learning Engineer & Toronto Chapter Lead | Mar 2023 â€“ Present\\nâ€¢\\tAI Chatbot for Canadian Immigrant Applicants: Spearheaded the development of an NLP-based chatbot using LLM frameworks, deploying the solution on AWS EC2. Acted as product manager, aligning technical outputs with user needs and business goals.\\nâ€¢\\tEarly Alzheimerâ€™s Detection: Led a self-initiated project using CNN and transfer learning to identify early Alzheimerâ€™s from brain scans, achieving 92% accuracy.\\nâ€¢\\tReal Estate Recommender System: Developed a Python-based recommender system using collaborative filtering, improving user engagement by 15%.\\nâ€¢\\tSkills Demonstrated: Cross-department collaboration, innovative problem-solving, and translating technical models into actionable business strategies.\\nTheMathCompany\\nAssociate Consultant (Data Science) | Jun 2021 â€“ Feb 2023\\nâ€¢\\tDesigned and executed A/B testing strategies analyzing 1M+ user interactions, delivering data-backed recommendations that increased conversion rates by 2% \\nâ€¢\\tDeveloped real-time Looker dashboards integrating 5+ data sources for 300+ stakeholders, reducing decision-making time by 40% \\nâ€¢\\tEngineered complex SQL queries and stored procedures to analyze 2M+ daily transactions, delivering ad-hoc business insights that improved user engagement by 45% \\nâ€¢\\tEngineered automated analytics workflows processing user behaviour data across multiple touchpoints, identifying key engagement patterns \\nâ€¢\\tArchitected global Power BI solution integrating complex data sources (IQVIA, IPSOS, internal databases), creating role-specific dashboards for a global workforce across 5 geographic regions\\n________________________________________\\nKEY PROJECTS\\nCanPolicy Insight | Omdena Toronto Chapter\\nTechnologies: Python, LangChain, Pinecone\\nâ€¢\\tEngineered a similarity search algorithm to analyze policy document trends, improving alignment with regulatory requirements.\\nâ€¢\\tCollaborated with cross-functional teams to ensure data quality and relevance for strategic decision-making.\\n\\n\\nEarly Alzheimerâ€™s Detection (Self-Initiated)\\nTechnologies: CNN, Transfer Learning\\nâ€¢\\tDeveloped a model to identify early Alzheimerâ€™s from brain scans, achieving 92% accuracy. Validated results through statistical performance metrics.\\n________________________________________\\nEDUCATION & DEVELOPMENT\\nâ€¢\\tCertificate in Practical Data Science & Deep Learning | Toronto Metropolitan University\\nâ€¢\\tPG Program in Data Science & Business Analytics | Great Lakes Executive Learning & McCombs School of Business\\nâ€¢\\tBachelor of Engineering (Production) | Lukhdhirji Engineering College\\nâ€¢\\tAI Conference Participant | Toronto Machine Learning Society (July 2023)\\n________________________________________\\nVOLUNTEER EXPERIENCE\\nâ€¢\\tHabitat for Humanity, Hamilton | ReStore Volunteer - Dec 2024 - Present\\nâ€¢\\tMount Hamilton Youth Soccer Club | Coach â€“ Oct 2024 - Present\\n________________________________________\\n\\n\\n## LinkedIn Profile: \\n\\xa0 \\xa0\\nContact\\n+14375564666  (Mobile)\\nkausthab.dutta1987@gmail.co\\nm\\nwww.linkedin.com/in/kduttap\\n(LinkedIn)\\nTop Skills\\nNatural Language Processing (NLP)\\nPredictive Analytics\\nDatasets\\nLanguages\\nAssamese  (Native or Bilingual)\\nHindi  (Native or Bilingual)\\nGujarati  (Limited Working)\\nEnglish  (Full Professional)\\nCertifications\\nCertified NLP Coach\\nAMCAT Certified Proficiency in\\nEnglish\\nSQL Intermediate\\nAnalyzing and Visualizing Data with\\nMicrosoft Power BI\\nCertificate of Completion - Assistant\\nProject Manager\\nHonors-Awards\\nRising Star Award 2015Kausthab Dutta Phukan\\nData Scientist Helping Others Transform Their Careers | Sales to\\nData Science | Analytics Mentor | Product Development | Social\\nImpact through Analytics Projects\\nHamilton, Ontario, Canada\\nSummary\\nAs a seasoned professional with over 10 years of experience, I\\nspecialize in data science, artificial intelligence (AI), and product\\ndevelopment. My expertise lies in applying deep learning and\\ncomputer vision techniques to solve real-world problems, such as\\nhighway pavement degradation in Nigeria and enhancing the real\\nestate industry in Bangladesh through AI-powered recommendation\\nplatforms.\\nMy strength is my ability to leverage large language models and\\nstatistical analysis to understand patterns and make data-driven\\ndecisions. Using drone images, I have successfully developed\\nmodels for identifying degraded asphalt pavements, significantly\\nreducing on-site observation time and traffic disruption. In addition,\\nmy work on the PropertyAI platform has improved transparency in\\nthe real estate sector by providing reliable data that aids buyers and\\nsellers make informed decisions.\\nI am adept at managing datasets, training models, and visualizing\\ndata using tools like Hive, SQL, and Python. My unique blend of\\nbusiness development skills allows me to foster relationships with\\nchannel partners and manage projects effectively.\\nIf you have an intriguing problem or an idea that can be solved or\\nenhanced with data science, let's connect. Let's harness the power\\nof AI together to create innovative solutions for your business needs.\\nExperience\\nGreat Learning\\nData Science Mentor\\nDecember 2021\\xa0-\\xa0Present\\xa0 (3 years 9 months)\\nBengaluru, Karnataka, India\\n\\xa0 Page 1 of 5\\xa0 \\xa0\\nOmdena Toronto Chapter\\nLead\\nJune 2023\\xa0-\\xa0April 2025\\xa0 (1 year 11 months)\\nToronto, Ontario, Canada\\nOmdena\\n7 months\\nLead Machine Learning Engineer\\nAugust 2023\\xa0-\\xa0November 2023\\xa0 (4 months)\\nToronto, Ontario, Canada\\nJunior Machine Learning Engineer\\nMay 2023\\xa0-\\xa0September 2023\\xa0 (5 months)\\nOntario, Canada\\nOmdena Nigeria Chapter\\nData Scientist\\nMarch 2023\\xa0-\\xa0July 2023\\xa0 (5 months)\\nProblem Statement: \\nHighway pavement degradation is a prevalent situation in Nigeria. The regular\\noperation will be for Engineers or observation onsite. Due to the large land\\nmass of Nigeria and the harsh weather condition, it becomes stressful and\\ntime-consuming to use the regular way of onsite observation. This could also\\ndisrupt traffic on the highway.\\nUsing Deep learning and computer vision to identify and also classify these\\ndegraded asphalt pavement using drone images all in real-time.\\nThough much research has tried to build models, this project will try to\\nincrease the classes and also address Highways in Nigeria\\nOmdena Bangladesh Chapter\\nTask Lead\\nMarch 2023\\xa0-\\xa0May 2023\\xa0 (3 months)\\nGreater Toronto Area, Canada\\nDeveloping an AI-powered Recommendation Platform for the Real Estate\\nIndustry in Bangladesh: PropertyAI\\nProject Goals:\\n1. Collect and analyze real estate data:\\n\\xa0 Page 2 of 5\\xa0 \\xa0\\nWe aim to collect and analyze data on real estate transactions, land prices,\\nand surrounding facilities, using AI and machine learning algorithms to\\nidentify patterns and trends. This data will be presented in a user-friendly and\\naccessible format, allowing consumers and developers to make informed\\ndecisions about properties.\\n2. Improve transparency and information symmetry:\\nWe will improve transparency and information symmetry in the real estate\\nsector in Bangladesh, by providing reliable and comprehensive data to users.\\nThis could help to reduce corruption and other illegal practices in the sector\\nand increase public trust and confidence in real estate transactions.\\n3. Provide better recommendations:\\nThe platform should leverage AI to provide better recommendations to users,\\nbased on their individual preferences and needs along with AI’s outcomes from\\nthe recommender engine. For example, the platform could recommend similar\\nproperties based on the user’s budget, location preferences, or other criteria,\\nand provide insights on the best time to buy or sell.\\n4. Foster a more efficient real estate market:\\nBy providing valuable insights and recommendations to consumers and\\ndevelopers, the platform should help to foster a more efficient and competitive\\nreal estate market in Bangladesh. This could ultimately benefit both buyers\\nand sellers, by improving the quality and transparency of real estate\\ntransactions and increasing the overall value of the sector.\\nTheMathCompany\\nAssociate Data Scientist\\nOctober 2022\\xa0-\\xa0February 2023\\xa0 (5 months)\\nCanada\\nTheMathCompany\\nAssociate\\nJune 2021\\xa0-\\xa0July 2022\\xa0 (1 year 2 months)\\nBangalore Urban, Karnataka, India\\nMantra Properties and Developers\\n\\xa0 Page 3 of 5\\xa0 \\xa0\\nSenior Manager\\nNovember 2018\\xa0-\\xa0April 2020\\xa0 (1 year 6 months)\\nGudFud inc.\\nIndependent Business Owner\\nJuly 2016\\xa0-\\xa0August 2018\\xa0 (2 years 2 months)\\nPune Area, India\\nWe offer homely food which is Hygienic and affordable to corporates, PG,\\nHostels etc etc.\\nLodha Group\\nDeputy Manager Sales\\nJuly 2015\\xa0-\\xa0June 2016\\xa0 (1 year)\\nLuxury Real Estate Sales\\nXeeva, Inc.\\nMarketPlace Analyst\\nJune 2014\\xa0-\\xa0July 2015\\xa0 (1 year 2 months)\\nBhopal, Madhya Pradesh\\nSupplier Development\\nNegotiation\\nSpend Management\\nSpend Analytics\\nICICI Lombard\\nSales Manager-Geo Structure\\nMarch 2013\\xa0-\\xa0June 2014\\xa0 (1 year 4 months)\\nGuwahati\\nChannel Management: working closely with channel partners and helping them\\nin enhancing their business.providing them with vital statistics to boost sales.\\nAgency development: identifying potential agents in the GI industry. convert\\ncompetitor agents.\\nTeam management\\nHandling the Bancassurance vertical\\nEducation\\n\\xa0 Page 4 of 5\\xa0 \\xa0\\nGreat Lakes Institute of Management\\nExecutive Learning,\\xa0Data Science and Business Analytics \\xa0·\\xa0(2020\\xa0-\\xa02021)\\nDefense Institute of Advanced Technology (DIAT), DU, DRDO\\nCertificate Course on Artificial Intelligence & Machine Learning,\\xa0Artificial\\nIntelligence & Machine Learning \\xa0·\\xa0(February 2021\\xa0-\\xa0May 2021)\\nICFAI BUSINESS SCHOOL,HYDERABAD\\nMBA,\\xa0Marketing\\nLukhdhirji Engineering College\\nB.E,\\xa0Production\\nCotton College, Guwahati\\n+2,\\xa0Science\\n\\xa0 Page 5 of 5\\n\\nwith this context, please chat with the user, always staying in character as Kausthab.\""
      ]
     },
     "execution_count": 37,
     "metadata": {},
     "output_type": "execute_result"
    }
   ],
   "source": [
    "system_prompt"
   ]
  },
  {
   "cell_type": "code",
   "execution_count": 67,
   "id": "93c3f39e",
   "metadata": {},
   "outputs": [],
   "source": [
    "def chat(message, history):\n",
    "    messages = [{\"role\": \"system\", \"content\": system_prompt}] + history + [{\"role\": \"user\", \"content\": message}]\n",
    "    done = False \n",
    "    while not done:\n",
    "        response = openai.chat.completions.create(model = \"gpt-4o-mini\", messages=messages, tools=tools)\n",
    "\n",
    "        finish_reason = response.choices[0].finish_reason\n",
    "\n",
    "        if finish_reason == \"tool_calls\":\n",
    "            message = response.choices[0].message\n",
    "            tool_calls = message.tool_calls #take out the tool call\n",
    "            results = handle_tool_calls(tool_calls) #function is called\n",
    "            messages.append(message)\n",
    "            messages.extend(results)\n",
    "        else:\n",
    "            done = True \n",
    "    return response.choices[0].message.content"
   ]
  },
  {
   "cell_type": "code",
   "execution_count": null,
   "id": "067c9360",
   "metadata": {},
   "outputs": [
    {
     "name": "stdout",
     "output_type": "stream",
     "text": [
      "* Running on local URL:  http://127.0.0.1:7866\n",
      "* To create a public link, set `share=True` in `launch()`.\n"
     ]
    },
    {
     "data": {
      "text/html": [
       "<div><iframe src=\"http://127.0.0.1:7866/\" width=\"100%\" height=\"500\" allow=\"autoplay; camera; microphone; clipboard-read; clipboard-write;\" frameborder=\"0\" allowfullscreen></iframe></div>"
      ],
      "text/plain": [
       "<IPython.core.display.HTML object>"
      ]
     },
     "metadata": {},
     "output_type": "display_data"
    },
    {
     "data": {
      "text/plain": []
     },
     "execution_count": 70,
     "metadata": {},
     "output_type": "execute_result"
    },
    {
     "name": "stdout",
     "output_type": "stream",
     "text": [
      "Tool called: record_unknown_question\n",
      "Push: Recording What is your favorite color? asked that I could not answer\n",
      "Tool called: record_user_details\n",
      "Push: Recording interest from Name not provided with email kevin@test.com and notes not provided\n"
     ]
    },
    {
     "ename": "",
     "evalue": "",
     "output_type": "error",
     "traceback": [
      "\u001b[1;31mThe Kernel crashed while executing code in the current cell or a previous cell. \n",
      "\u001b[1;31mPlease review the code in the cell(s) to identify a possible cause of the failure. \n",
      "\u001b[1;31mClick <a href='https://aka.ms/vscodeJupyterKernelCrash'>here</a> for more info. \n",
      "\u001b[1;31mView Jupyter <a href='command:jupyter.viewOutput'>log</a> for further details."
     ]
    }
   ],
   "source": [
    "gr.ChatInterface(chat, type = \"messages\").launch()"
   ]
  },
  {
   "cell_type": "code",
   "execution_count": null,
   "id": "1c7a5f3d",
   "metadata": {},
   "outputs": [],
   "source": []
  },
  {
   "cell_type": "code",
   "execution_count": null,
   "id": "63cf2de5",
   "metadata": {},
   "outputs": [],
   "source": []
  },
  {
   "cell_type": "code",
   "execution_count": null,
   "id": "d06833cd",
   "metadata": {},
   "outputs": [],
   "source": []
  }
 ],
 "metadata": {
  "kernelspec": {
   "display_name": ".venv",
   "language": "python",
   "name": "python3"
  },
  "language_info": {
   "codemirror_mode": {
    "name": "ipython",
    "version": 3
   },
   "file_extension": ".py",
   "mimetype": "text/x-python",
   "name": "python",
   "nbconvert_exporter": "python",
   "pygments_lexer": "ipython3",
   "version": "3.11.13"
  }
 },
 "nbformat": 4,
 "nbformat_minor": 5
}
