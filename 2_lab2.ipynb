{
 "cells": [
  {
   "cell_type": "markdown",
   "id": "b441c75e",
   "metadata": {},
   "source": [
    "## Agentic AI Framework Project"
   ]
  },
  {
   "cell_type": "markdown",
   "id": "cf1c78d0",
   "metadata": {},
   "source": [
    "#### This notebook will showcase the follwoing:\n",
    "\n",
    "* Agent workflow\n",
    "* Use of tools to call functions\n",
    "* Agent collaboration via Tools and Handoffs"
   ]
  },
  {
   "cell_type": "code",
   "execution_count": 1,
   "id": "82a203ac",
   "metadata": {},
   "outputs": [],
   "source": [
    "import asyncio\n",
    "from dotenv import load_dotenv\n",
    "from agents import Agent, trace, Runner, function_tool\n",
    "from openai.types.responses import ResponseTextDeltaEvent\n",
    "from typing import Dict\n",
    "import sendgrid\n",
    "import os\n",
    "from sendgrid.helpers.mail import Mail, Email, To, Content\n",
    "import asyncio"
   ]
  },
  {
   "cell_type": "code",
   "execution_count": 2,
   "id": "639f1075",
   "metadata": {},
   "outputs": [
    {
     "data": {
      "text/plain": [
       "True"
      ]
     },
     "execution_count": 2,
     "metadata": {},
     "output_type": "execute_result"
    }
   ],
   "source": [
    "load_dotenv(override=True)"
   ]
  },
  {
   "cell_type": "markdown",
   "id": "2c9d1cca",
   "metadata": {},
   "source": [
    "### Step1: Agent Workflow"
   ]
  },
  {
   "cell_type": "code",
   "execution_count": 3,
   "id": "17750f7a",
   "metadata": {},
   "outputs": [],
   "source": [
    "instructions1 = \"\"\"You are a sales agent working for InsightStat, which is a company offering data science solutions. This \\\n",
    "company leverages the latest AI tools to design tailored data science solutions. Your job is to write cold emails that are serious \\\n",
    "and professional\n",
    "\"\"\"\n",
    "\n",
    "instructions2 = \"\"\"You are a humorous, engaging sales agent working for InsightStat, which is a company offering data science solutions. This \\\n",
    "company leverages the latest AI tools to design tailored data science solutions. Your job is to write witty, engaging cold emails will likely get you \\\n",
    "a response\"\"\"\n",
    "\n",
    "instructions3 = \"\"\"You are a busy ales agent working for InsightStat, which is a company offering data science solutions. This\n",
    "company leverages the latest AI tools to design tailored data science solutions. Your job is to write serious cold emails that are concise\n",
    "and to the point\"\"\""
   ]
  },
  {
   "cell_type": "code",
   "execution_count": 4,
   "id": "7e3cce11",
   "metadata": {},
   "outputs": [],
   "source": [
    "sales_agent1 = Agent(\n",
    "    name = \"Professional Sales Agent\",\n",
    "    instructions= instructions1,\n",
    "    model = 'gpt-4o-mini'\n",
    ")\n",
    "\n",
    "sales_agent2 = Agent(\n",
    "    name = \"Engaging Sales Agent\",\n",
    "    instructions= instructions2,\n",
    "    model = 'gpt-4o-mini'\n",
    ")\n",
    "\n",
    "sales_agent3 = Agent(\n",
    "    name = \"Busy Sales Agent\",\n",
    "    instructions= instructions3,\n",
    "    model = 'gpt-4o-mini'\n",
    ")"
   ]
  },
  {
   "cell_type": "code",
   "execution_count": 5,
   "id": "287db999",
   "metadata": {},
   "outputs": [
    {
     "name": "stdout",
     "output_type": "stream",
     "text": [
      "Subject: Unlock the Power of Data with Tailored Solutions\n",
      "\n",
      "Dear [Recipient's Name],\n",
      "\n",
      "I hope this message finds you well. My name is [Your Name], and I am reaching out to introduce you to InsightStat, where we specialize in delivering bespoke data science solutions that harness the latest advancements in AI.\n",
      "\n",
      "In today’s data-driven landscape, making informed decisions is crucial. Our team at InsightStat collaborates with organizations like yours to analyze and extract valuable insights from complex datasets. We have a proven track record of enhancing operational efficiency, improving customer experience, and enabling strategic growth.\n",
      "\n",
      "I would love the opportunity to discuss how our tailored solutions can address your specific challenges and drive actionable insights within your organization. Would you be open to a brief call next week to explore this further?\n",
      "\n",
      "Thank you for considering this opportunity. I look forward to the possibility of working together.\n",
      "\n",
      "Best regards,\n",
      "\n",
      "[Your Name]  \n",
      "[Your Position]  \n",
      "InsightStat  \n",
      "[Your Phone Number]  \n",
      "[Your Email Address]  \n",
      "[Your LinkedIn Profile] (if applicable)  "
     ]
    }
   ],
   "source": [
    "result = Runner.run_streamed(sales_agent1, input= \"Write a cold sales email\")\n",
    "async for event in result.stream_events():\n",
    "    if event.type == \"raw_response_event\" and isinstance(event.data, ResponseTextDeltaEvent):\n",
    "        print(event.data.delta, end = \"\", flush=True)"
   ]
  },
  {
   "cell_type": "code",
   "execution_count": 6,
   "id": "23c0cb0e",
   "metadata": {},
   "outputs": [
    {
     "name": "stdout",
     "output_type": "stream",
     "text": [
      "Subject: Unlock the Power of Data with Tailored AI Solutions\n",
      "\n",
      "Dear [Recipient's Name],\n",
      "\n",
      "I hope this message finds you well. My name is [Your Name], and I am with InsightStat, where we specialize in harnessing the power of data science to drive measurable results for businesses like yours.\n",
      "\n",
      "In today’s competitive landscape, leveraging data effectively can be the key to unlocking new growth opportunities. At InsightStat, we utilize cutting-edge AI tools to design customized data science solutions that align with your organization's unique goals and challenges.\n",
      "\n",
      "We have worked successfully with companies across various industries, helping them to:\n",
      "- Enhance decision-making through predictive analytics\n",
      "- Optimize processes using machine learning models\n",
      "- Uncover valuable insights from complex datasets\n",
      "\n",
      "I would love the opportunity to discuss how we can support your business in achieving its strategic objectives. Would you be available for a brief call next week to explore this further?\n",
      "\n",
      "Thank you for your time, and I look forward to hearing from you.\n",
      "\n",
      "Best regards,\n",
      "\n",
      "[Your Name]  \n",
      "[Your Job Title]  \n",
      "InsightStat  \n",
      "[Your Phone Number]  \n",
      "[Your Email Address]  \n",
      "[Company Website]   \n",
      "\n",
      "\n",
      "Subject: Unlock Your Data's Superpowers! 🦸‍♂️\n",
      "\n",
      "Hi [Recipient's Name],\n",
      "\n",
      "I hope this email finds you well! If your data could talk, would it be whispering sweet nothings or screaming in frustration? 🤔 Fear not; InsightStat is here to transform that data dilemma into a data dream!\n",
      "\n",
      "We specialize in crafting tailored data science solutions that unleash the true potential of your data—like turning lead into gold (minus the alchemy mess). Our AI-driven tools don't just dominate spreadsheets; they bring your insights to life and help you make decisions faster than you can say “quarterly report”!\n",
      "\n",
      "Here’s the kicker: you don’t have to be a data detective to uncover hidden patterns. With our team of data whisperers by your side, you’ll be making predictions that would make even Nostradamus proud. \n",
      "\n",
      "Let’s chat about how we can help you turn your data into your best asset. Who knows? You might even find that data is your new favorite conversation starter! \n",
      "\n",
      "Looking forward to hearing from you!\n",
      "\n",
      "Best,  \n",
      "[Your Name]  \n",
      "Your Future Data Whisperer at InsightStat  \n",
      "[Your Phone Number]  \n",
      "[Your LinkedIn Profile] (optional)  \n",
      "\n",
      "P.S. I promise no data was harmed in the making of this email! 😂 \n",
      "\n",
      "\n",
      "Subject: Unlock the Power of Data Science for Your Business\n",
      "\n",
      "Hi [Recipient's Name],\n",
      "\n",
      "I hope this message finds you well. I’m [Your Name] from InsightStat, where we specialize in transforming data challenges into actionable insights through tailored data science solutions.\n",
      "\n",
      "In today’s competitive landscape, leveraging AI tools can significantly enhance decision-making and operational efficiency. Our recent collaborations have helped companies like [Client Name or Industry] achieve [specific outcome or percentage of improvement].\n",
      "\n",
      "I’d love to share how we can help you unlock similar value. Would you be open to a quick call this week to explore potential opportunities for your organization?\n",
      "\n",
      "Looking forward to connecting.\n",
      "\n",
      "Best,  \n",
      "[Your Name]  \n",
      "[Your Title]  \n",
      "InsightStat  \n",
      "[Your Phone Number]  \n",
      "[Your LinkedIn Profile or Website]   \n",
      "\n",
      "\n"
     ]
    }
   ],
   "source": [
    "message = \"Write a cold sales email\"\n",
    "\n",
    "with trace(\"Parallel cold emails\"):\n",
    "    results = await asyncio.gather(\n",
    "        Runner.run(sales_agent1,message),\n",
    "        Runner.run(sales_agent2,message),\n",
    "        Runner.run(sales_agent3,message)\n",
    "    )\n",
    "\n",
    "outputs = [result.final_output for result in results]\n",
    "\n",
    "for output in outputs:\n",
    "    print(output, \"\\n\\n\")"
   ]
  },
  {
   "cell_type": "code",
   "execution_count": 7,
   "id": "85cd5e14",
   "metadata": {},
   "outputs": [],
   "source": [
    "sales_picker = Agent(\n",
    "    name = \"sales_picker\",\n",
    "    instructions = \"You have to pick the best cold sales email from the given oprions \\\n",
    "        Imagine you are a customer who will respond to one of the emails that you liked the best \\\n",
    "        Do not give any explanation. Just return the best email\",\n",
    "        model= \"gpt-4o-mini\" \n",
    ")"
   ]
  },
  {
   "cell_type": "code",
   "execution_count": 8,
   "id": "7fa89edf",
   "metadata": {},
   "outputs": [
    {
     "name": "stdout",
     "output_type": "stream",
     "text": [
      "Best sales email:\n",
      "Subject: Is Your Data Feeling a Little Shy? 🤔📊\n",
      "\n",
      "Hey [Recipient's Name],\n",
      "\n",
      "Ever feel like your data is hiding at a party, sipping a soda in the corner while everyone else is dancing? 🎉 Well, that’s where we come in!\n",
      "\n",
      "At InsightStat, we specialize in coaxing those bashful numbers onto the dance floor with our tailored data science solutions. We know a thing or two (or three... or four) about using the latest AI tools to transform your data from wallflower to the life of the party!\n",
      "\n",
      "Imagine your metrics busting out some sweet moves, giving you the insights you need to make informed decisions and impress your boss (bonus: who doesn’t love great party tricks?). 🚀\n",
      "\n",
      "Are you ready to turn your data from shy to savvy? Let’s chat — I promise I won't make you share any embarrassing dance stories... unless you really want to!\n",
      "\n",
      "Looking forward to hearing from you!\n",
      "\n",
      "Best,  \n",
      "[Your Name]  \n",
      "[Your Job Title]  \n",
      "InsightStat  \n",
      "[Your Phone Number]  \n",
      "[Your LinkedIn Profile]  \n",
      "\n",
      "P.S. Don’t let that data stay in the corner! Let’s help it shine! 🌟\n"
     ]
    }
   ],
   "source": [
    "message = \"Write a cold sales email\"\n",
    "\n",
    "with trace(\"Selection from sales people\"):\n",
    "    results = await asyncio.gather(\n",
    "        Runner.run(sales_agent1,message),\n",
    "        Runner.run(sales_agent2,message),\n",
    "        Runner.run(sales_agent3,message)\n",
    "    )\n",
    "\n",
    "outputs = [result.final_output for result in results]\n",
    "\n",
    "emails = \"Cold sales emails:\\n\\n\" + \"\\n\\nEmail: \\n\\n\".join(outputs)\n",
    "\n",
    "best = await Runner.run(sales_picker, emails)\n",
    "\n",
    "print(f\"Best sales email:\\n{best.final_output}\")\n"
   ]
  },
  {
   "cell_type": "markdown",
   "id": "ec880d34",
   "metadata": {},
   "source": [
    "### Use of Tools"
   ]
  },
  {
   "cell_type": "code",
   "execution_count": 9,
   "id": "f3e415c1",
   "metadata": {},
   "outputs": [],
   "source": [
    "sales_agent1 = Agent(\n",
    "    name = \"Professional Sales Agent\",\n",
    "    instructions= instructions1,\n",
    "    model = 'gpt-4o-mini'\n",
    ")\n",
    "\n",
    "sales_agent2 = Agent(\n",
    "    name = \"Engaging Sales Agent\",\n",
    "    instructions= instructions2,\n",
    "    model = 'gpt-4o-mini'\n",
    ")\n",
    "\n",
    "sales_agent3 = Agent(\n",
    "    name = \"Busy Sales Agent\",\n",
    "    instructions= instructions3,\n",
    "    model = 'gpt-4o-mini'\n",
    ")"
   ]
  },
  {
   "cell_type": "code",
   "execution_count": 10,
   "id": "b72fafcc",
   "metadata": {},
   "outputs": [
    {
     "data": {
      "text/plain": [
       "Agent(name='Professional Sales Agent', handoff_description=None, tools=[], mcp_servers=[], mcp_config={}, instructions='You are a sales agent working for InsightStat, which is a company offering data science solutions. This company leverages the latest AI tools to design tailored data science solutions. Your job is to write cold emails that are serious and professional\\n', prompt=None, handoffs=[], model='gpt-4o-mini', model_settings=ModelSettings(temperature=None, top_p=None, frequency_penalty=None, presence_penalty=None, tool_choice=None, parallel_tool_calls=None, truncation=None, max_tokens=None, reasoning=None, verbosity=None, metadata=None, store=None, include_usage=None, response_include=None, top_logprobs=None, extra_query=None, extra_body=None, extra_headers=None, extra_args=None), input_guardrails=[], output_guardrails=[], output_type=None, hooks=None, tool_use_behavior='run_llm_again', reset_tool_choice=True)"
      ]
     },
     "execution_count": 10,
     "metadata": {},
     "output_type": "execute_result"
    }
   ],
   "source": [
    "sales_agent1"
   ]
  },
  {
   "cell_type": "code",
   "execution_count": null,
   "id": "2cd44328",
   "metadata": {},
   "outputs": [],
   "source": [
    "@function_tool\n",
    "def send_email(body:str):\n",
    "    \"\"\" Send out an email with the given body to all sales prospects\"\"\"\n",
    "    sg = sendgrid.SendGridAPIClient(api_key=os.environ['SENDGRID_API_KEY'])\n",
    "    from_email = Email(\"kausthab.phukan@gmail.com\")\n",
    "    to_email = To(\"kausthab.phukan@gmail.com\")\n",
    "    content = Content(\"text/plain\", body)\n",
    "    mail = Mail(from_email, to_email, \"Sales email\", content)\n",
    "    sg.send(mail)\n",
    "    return {\"status\":\"success\"}"
   ]
  },
  {
   "cell_type": "code",
   "execution_count": 12,
   "id": "14002a7c",
   "metadata": {},
   "outputs": [
    {
     "data": {
      "text/plain": [
       "FunctionTool(name='send_email', description='Send out an email with the given body to all sales prospects', params_json_schema={'properties': {'body': {'title': 'Body', 'type': 'string'}}, 'required': ['body'], 'title': 'send_email_args', 'type': 'object', 'additionalProperties': False}, on_invoke_tool=<function function_tool.<locals>._create_function_tool.<locals>._on_invoke_tool at 0x000001E664B811C0>, strict_json_schema=True, is_enabled=True)"
      ]
     },
     "execution_count": 12,
     "metadata": {},
     "output_type": "execute_result"
    }
   ],
   "source": [
    "send_email"
   ]
  },
  {
   "cell_type": "markdown",
   "id": "076152fc",
   "metadata": {},
   "source": [
    "Converting Agent into a tool"
   ]
  },
  {
   "cell_type": "code",
   "execution_count": 13,
   "id": "c11ba3cd",
   "metadata": {},
   "outputs": [
    {
     "data": {
      "text/plain": [
       "FunctionTool(name='sales_agent1', description='Write a cold sales email', params_json_schema={'properties': {'input': {'title': 'Input', 'type': 'string'}}, 'required': ['input'], 'title': 'sales_agent1_args', 'type': 'object', 'additionalProperties': False}, on_invoke_tool=<function function_tool.<locals>._create_function_tool.<locals>._on_invoke_tool at 0x000001E6670F3CE0>, strict_json_schema=True, is_enabled=True)"
      ]
     },
     "execution_count": 13,
     "metadata": {},
     "output_type": "execute_result"
    }
   ],
   "source": [
    "tool1 = sales_agent1.as_tool(tool_name= \"sales_agent1\", tool_description= \"Write a cold sales email\")\n",
    "\n",
    "tool1"
   ]
  },
  {
   "cell_type": "markdown",
   "id": "4ecfcf61",
   "metadata": {},
   "source": [
    "If we can do it for 1, we can do it for all the others"
   ]
  },
  {
   "cell_type": "code",
   "execution_count": 14,
   "id": "9621f6f8",
   "metadata": {},
   "outputs": [
    {
     "data": {
      "text/plain": [
       "[FunctionTool(name='sales_agent1', description='Write a cold sales email', params_json_schema={'properties': {'input': {'title': 'Input', 'type': 'string'}}, 'required': ['input'], 'title': 'sales_agent1_args', 'type': 'object', 'additionalProperties': False}, on_invoke_tool=<function function_tool.<locals>._create_function_tool.<locals>._on_invoke_tool at 0x000001E6670F3920>, strict_json_schema=True, is_enabled=True),\n",
       " FunctionTool(name='sales_agent2', description='Write a cold sales email', params_json_schema={'properties': {'input': {'title': 'Input', 'type': 'string'}}, 'required': ['input'], 'title': 'sales_agent2_args', 'type': 'object', 'additionalProperties': False}, on_invoke_tool=<function function_tool.<locals>._create_function_tool.<locals>._on_invoke_tool at 0x000001E666B4AFC0>, strict_json_schema=True, is_enabled=True),\n",
       " FunctionTool(name='sales_agent3', description='Write a cold sales email', params_json_schema={'properties': {'input': {'title': 'Input', 'type': 'string'}}, 'required': ['input'], 'title': 'sales_agent3_args', 'type': 'object', 'additionalProperties': False}, on_invoke_tool=<function function_tool.<locals>._create_function_tool.<locals>._on_invoke_tool at 0x000001E6670F23E0>, strict_json_schema=True, is_enabled=True),\n",
       " FunctionTool(name='send_email', description='Send out an email with the given body to all sales prospects', params_json_schema={'properties': {'body': {'title': 'Body', 'type': 'string'}}, 'required': ['body'], 'title': 'send_email_args', 'type': 'object', 'additionalProperties': False}, on_invoke_tool=<function function_tool.<locals>._create_function_tool.<locals>._on_invoke_tool at 0x000001E664B811C0>, strict_json_schema=True, is_enabled=True)]"
      ]
     },
     "execution_count": 14,
     "metadata": {},
     "output_type": "execute_result"
    }
   ],
   "source": [
    "description = \"Write a cold sales email\"\n",
    "\n",
    "tool1 = sales_agent1.as_tool(tool_name= \"sales_agent1\", tool_description= description)\n",
    "tool2 = sales_agent2.as_tool(tool_name= \"sales_agent2\", tool_description= description)\n",
    "tool3 = sales_agent3.as_tool(tool_name= \"sales_agent3\", tool_description= description)\n",
    "\n",
    "tools = [tool1, tool2, tool3, send_email]\n",
    "\n",
    "tools"
   ]
  },
  {
   "cell_type": "markdown",
   "id": "9005c8b4",
   "metadata": {},
   "source": [
    "### Creating the Sales Manager that will select the best email to send"
   ]
  },
  {
   "cell_type": "code",
   "execution_count": 15,
   "id": "32db3022",
   "metadata": {},
   "outputs": [],
   "source": [
    "instructions = \"\"\"You are Sales Manager at Insight Stat and responsible for looking over all the communications your sales agents send out to their prospects. \\\n",
    "    It is also your responsibility to select the best cold sales email using the sales agent tool. And this is how you should go about doing it:\n",
    "\n",
    "    1.  Use the sales_agent1, sales_agent2, and sales_agent3 tools to generate three different email drafts. Call each tool once to get one draft from each. \\\n",
    "    Do not proceed until all the drafts have been prepared and are ready.\n",
    "\n",
    "\n",
    "    2. Evaluate and draft selection: Evaluate these 3 drafts and select the best/effective amongst these three. You do not need to give any explanation.\n",
    "\n",
    "    3.  Use the send_email tool to send the selected best email (only the best email) to the prospect \n",
    "\n",
    "    Critical rule:\n",
    "\n",
    "    - You must use the  sales_agent1, sales_agent2, and sales_agent3 tools to write the emails, never write the emails yourself\n",
    "\n",
    "    - You will use the send_email tool to send only one email to the prospect, and never send more than one email\n",
    "\"\"\"\n",
    "\n",
    "sales_manager = Agent(name= \"sales_manager\", instructions=instructions, tools=tools, model=\"gpt-4o-mini\")\n",
    "\n",
    "message = \"send a cold email to a prospect addressing 'Dear CEO' \"\n",
    "\n",
    "with trace(\"sales manager\"):\n",
    "    result = await Runner.run(sales_manager, message)"
   ]
  },
  {
   "cell_type": "markdown",
   "id": "c9173995",
   "metadata": {},
   "source": [
    "## Handoffs"
   ]
  },
  {
   "cell_type": "code",
   "execution_count": null,
   "id": "95479041",
   "metadata": {},
   "outputs": [],
   "source": []
  },
  {
   "cell_type": "code",
   "execution_count": null,
   "id": "435f444a",
   "metadata": {},
   "outputs": [],
   "source": []
  }
 ],
 "metadata": {
  "kernelspec": {
   "display_name": ".venv",
   "language": "python",
   "name": "python3"
  },
  "language_info": {
   "codemirror_mode": {
    "name": "ipython",
    "version": 3
   },
   "file_extension": ".py",
   "mimetype": "text/x-python",
   "name": "python",
   "nbconvert_exporter": "python",
   "pygments_lexer": "ipython3",
   "version": "3.12.11"
  }
 },
 "nbformat": 4,
 "nbformat_minor": 5
}
