{
 "cells": [
  {
   "cell_type": "markdown",
   "id": "b441c75e",
   "metadata": {},
   "source": [
    "## Agentic AI Framework Project"
   ]
  },
  {
   "cell_type": "markdown",
   "id": "cf1c78d0",
   "metadata": {},
   "source": [
    "#### This notebook will showcase the follwoing:\n",
    "\n",
    "* Agent workflow\n",
    "* Use of tools to call functions\n",
    "* Agent collaboration via Tools and Handoffs"
   ]
  },
  {
   "cell_type": "code",
   "execution_count": 9,
   "id": "82a203ac",
   "metadata": {},
   "outputs": [],
   "source": [
    "import asyncio\n",
    "from dotenv import load_dotenv\n",
    "from agents import Agent, trace, Runner, function_tool\n",
    "from openai.types.responses import ResponseTextDeltaEvent\n",
    "from typing import Dict\n",
    "import sendgrid\n",
    "import os\n",
    "from sendgrid.helpers.mail import Mail, Email, To, Content\n",
    "import asyncio"
   ]
  },
  {
   "cell_type": "code",
   "execution_count": 2,
   "id": "639f1075",
   "metadata": {},
   "outputs": [
    {
     "data": {
      "text/plain": [
       "True"
      ]
     },
     "execution_count": 2,
     "metadata": {},
     "output_type": "execute_result"
    }
   ],
   "source": [
    "load_dotenv(override=True)"
   ]
  },
  {
   "cell_type": "markdown",
   "id": "2c9d1cca",
   "metadata": {},
   "source": [
    "### Step1: Agent Workflow"
   ]
  },
  {
   "cell_type": "code",
   "execution_count": 3,
   "id": "17750f7a",
   "metadata": {},
   "outputs": [],
   "source": [
    "instructions1 = \"\"\"You are a sales agent working for InsightStat, which is a company offering data science solutions. This \\\n",
    "company leverages the latest AI tools to design tailored data science solutions. Your job is to write cold emails that are serious \\\n",
    "and professional\n",
    "\"\"\"\n",
    "\n",
    "instructions2 = \"\"\"You are a humorous, engaging sales agent working for InsightStat, which is a company offering data science solutions. This \\\n",
    "company leverages the latest AI tools to design tailored data science solutions. Your job is to write witty, engaging cold emails will likely get you \\\n",
    "a response\"\"\"\n",
    "\n",
    "instructions3 = \"\"\"You are a busy ales agent working for InsightStat, which is a company offering data science solutions. This\n",
    "company leverages the latest AI tools to design tailored data science solutions. Your job is to write serious cold emails that are concise\n",
    "and to the point\"\"\""
   ]
  },
  {
   "cell_type": "code",
   "execution_count": 5,
   "id": "7e3cce11",
   "metadata": {},
   "outputs": [],
   "source": [
    "sales_agent1 = Agent(\n",
    "    name = \"Professional Sales Agent\",\n",
    "    instructions= instructions1,\n",
    "    model = 'gpt-4o-mini'\n",
    ")\n",
    "\n",
    "sales_agent2 = Agent(\n",
    "    name = \"Engaging Sales Agent\",\n",
    "    instructions= instructions2,\n",
    "    model = 'gpt-4o-mini'\n",
    ")\n",
    "\n",
    "sales_agent3 = Agent(\n",
    "    name = \"Busy Sales Agent\",\n",
    "    instructions= instructions3,\n",
    "    model = 'gpt-4o-mini'\n",
    ")"
   ]
  },
  {
   "cell_type": "code",
   "execution_count": 7,
   "id": "287db999",
   "metadata": {},
   "outputs": [
    {
     "name": "stdout",
     "output_type": "stream",
     "text": [
      "Subject: Unlock the Power of Data with Tailored Solutions\n",
      "\n",
      "Dear [Recipient's Name],\n",
      "\n",
      "I hope this message finds you well. My name is [Your Name], and I am a sales agent with InsightStat, a leader in providing customized data science solutions powered by cutting-edge AI technology.\n",
      "\n",
      "In today’s competitive landscape, making informed decisions backed by robust data analysis is more crucial than ever. At InsightStat, we specialize in designing tailored solutions that fit the specific needs of your organization, helping you unlock valuable insights and drive better outcomes.\n",
      "\n",
      "Some of the benefits our clients have experienced include:\n",
      "\n",
      "- Enhanced predictive analytics for smarter decision-making\n",
      "- Streamlined processes through automation and optimization\n",
      "- Deep insights into customer behavior and market trends\n",
      "\n",
      "I would love the opportunity to discuss how InsightStat can help enhance your data capabilities and support your business objectives. Would you be available for a brief call next week?\n",
      "\n",
      "Thank you for considering this opportunity. I look forward to the possibility of working together.\n",
      "\n",
      "Best regards,\n",
      "\n",
      "[Your Name]  \n",
      "[Your Position]  \n",
      "InsightStat  \n",
      "[Your Phone Number]  \n",
      "[Your Email Address]  \n",
      "[Website URL]  "
     ]
    }
   ],
   "source": [
    "result = Runner.run_streamed(sales_agent1, input= \"Write a cold sales email\")\n",
    "async for event in result.stream_events():\n",
    "    if event.type == \"raw_response_event\" and isinstance(event.data, ResponseTextDeltaEvent):\n",
    "        print(event.data.delta, end = \"\", flush=True)"
   ]
  },
  {
   "cell_type": "code",
   "execution_count": 10,
   "id": "23c0cb0e",
   "metadata": {},
   "outputs": [
    {
     "name": "stdout",
     "output_type": "stream",
     "text": [
      "Subject: Unlock Data-Driven Insights with Tailored Solutions\n",
      "\n",
      "Dear [Recipient's Name],\n",
      "\n",
      "I hope this message finds you well. My name is [Your Name], and I am reaching out on behalf of InsightStat, where we specialize in delivering customized data science solutions powered by the latest AI technologies.\n",
      "\n",
      "In today’s fast-paced business environment, leveraging data effectively can be the key differentiator for success. At InsightStat, we recognize the unique challenges that organizations like yours face and are committed to helping you unlock actionable insights tailored to your specific needs.\n",
      "\n",
      "Our team of experts collaborates closely with clients across various industries, offering solutions that range from predictive analytics to machine learning models, all designed to enhance decision-making and drive growth.\n",
      "\n",
      "I would love the opportunity to discuss how InsightStat can support your data initiatives and help you achieve your goals. Would you be available for a brief call next week?\n",
      "\n",
      "Thank you for considering this partnership. I look forward to your response.\n",
      "\n",
      "Best regards,\n",
      "\n",
      "[Your Name]  \n",
      "[Your Position]  \n",
      "InsightStat  \n",
      "[Your Phone Number]  \n",
      "[Your Email]  \n",
      "[Company Website]   \n",
      "\n",
      "\n",
      "Subject: Unlock the Secrets of Your Data with a Dash of AI Magic! ✨\n",
      "\n",
      "Hi [Recipient's Name],\n",
      "\n",
      "Hope this email finds you swimming in data and not drowning in it! 🌊 As someone who appreciates the power of numbers, I wanted to introduce you to InsightStat—your soon-to-be favorite data science sidekick!\n",
      "\n",
      "Imagine this: your data starts performing like a rockstar at a sold-out concert—streamlined insights, tailor-made solutions, and decisions that practically make themselves (with a little help from our AI wizardry, of course). 🎸✨\n",
      "\n",
      "Rummaging through mountains of data can feel like looking for a needle in a haystack. But fear not! Our team of savvy data scientists can transform those haystacks into golden opportunities faster than you can say \"data visualization.\"\n",
      "\n",
      "Whether you’re looking to boost your predictive analytics or simply want to know which of your employees has the best coffee-making skills, we’ve got you covered. ☕📊\n",
      "\n",
      "Let’s set up a time to chat! I promise to be more delightful than a well-placed cat meme in a presentation. 🐱\n",
      "\n",
      "Best,\n",
      "\n",
      "[Your Name]  \n",
      "[Your Title]  \n",
      "InsightStat  \n",
      "[Your Phone Number]  \n",
      "[Your Website]  \n",
      "\n",
      "P.S. If you’re not interested, no worries! Just send back a “not today” and I’ll vanish like a magician. 🪄🕶️ \n",
      "\n",
      "\n",
      "Subject: Unlock Powerful Insights with Tailored Data Solutions\n",
      "\n",
      "Hi [Recipient's Name],\n",
      "\n",
      "I hope this message finds you well. I’m reaching out to introduce InsightStat, where we specialize in crafting customized data science solutions powered by the latest AI technologies.\n",
      "\n",
      "In today’s data-driven landscape, leveraging insights effectively can set you apart from the competition. Our team can help you uncover meaningful patterns, optimize processes, and drive informed decision-making.\n",
      "\n",
      "Would you be open to a brief call next week to discuss how we can support your goals with our tailored solutions?\n",
      "\n",
      "Looking forward to your response.\n",
      "\n",
      "Best regards,  \n",
      "[Your Name]  \n",
      "[Your Position]  \n",
      "InsightStat  \n",
      "[Your Phone Number]  \n",
      "[Your Email Address]   \n",
      "\n",
      "\n"
     ]
    }
   ],
   "source": [
    "message = \"Write a cold sales email\"\n",
    "\n",
    "with trace(\"Parallel cold emails\"):\n",
    "    results = await asyncio.gather(\n",
    "        Runner.run(sales_agent1,message),\n",
    "        Runner.run(sales_agent2,message),\n",
    "        Runner.run(sales_agent3,message)\n",
    "    )\n",
    "\n",
    "outputs = [result.final_output for result in results]\n",
    "\n",
    "for output in outputs:\n",
    "    print(output, \"\\n\\n\")"
   ]
  },
  {
   "cell_type": "code",
   "execution_count": 11,
   "id": "85cd5e14",
   "metadata": {},
   "outputs": [],
   "source": [
    "sales_picker = Agent(\n",
    "    name = \"sales_picker\",\n",
    "    instructions = \"You have to pick the best cold sales email from the given oprions \\\n",
    "        Imagine you are a customer who will respond to one of the emails that you liked the best \\\n",
    "        Do not give any explanation. Just return the best email\",\n",
    "        model= \"gpt-4o-mini\" \n",
    ")"
   ]
  },
  {
   "cell_type": "code",
   "execution_count": 14,
   "id": "7fa89edf",
   "metadata": {},
   "outputs": [
    {
     "name": "stdout",
     "output_type": "stream",
     "text": [
      "Best sales email:\n",
      "Subject: Unlocking Data Magic – No Hogwarts Required! 🧙‍♂️✨\n",
      "\n",
      "Hi [Recipient’s Name],\n",
      "\n",
      "Ever feel like your data is that one magical creature from a fantasy novel—mysterious, elusive, and more likely to cause chaos than help? 🐉 Well, you’re in luck! At InsightStat, we specialize in taming those data dragons and transforming them into valuable insights.\n",
      "\n",
      "We’ve combined cutting-edge AI with a sprinkle of data science wizardry to create tailored solutions that *actually* make sense of your numbers. Whether you’re trying to predict trends, boost sales, or simply want to understand why your coffee consumption spikes on Monday mornings, we’ve got your back!\n",
      "\n",
      "Let’s chat about how we can turn your data questions into answers—preferably ones that don’t require crystal balls. You bring the coffee; I’ll bring the magic!\n",
      "\n",
      "Looking forward to having some fun with your data,\n",
      "\n",
      "[Your Name]  \n",
      "[Your Position]  \n",
      "InsightStat  \n",
      "[Your Phone Number]  \n",
      "[Your LinkedIn Profile]  \n",
      "P.S. We promise not to wear pointy hats—unless that’s your thing! 😉 \n"
     ]
    }
   ],
   "source": [
    "message = \"Write a cold sales email\"\n",
    "\n",
    "with trace(\"Selection from sales people\"):\n",
    "    results = await asyncio.gather(\n",
    "        Runner.run(sales_agent1,message),\n",
    "        Runner.run(sales_agent2,message),\n",
    "        Runner.run(sales_agent3,message)\n",
    "    )\n",
    "\n",
    "outputs = [result.final_output for result in results]\n",
    "\n",
    "emails = \"Cold sales emails:\\n\\n\" + \"\\n\\nEmail: \\n\\n\".join(outputs)\n",
    "\n",
    "best = await Runner.run(sales_picker, emails)\n",
    "\n",
    "print(f\"Best sales email:\\n{best.final_output}\")\n"
   ]
  },
  {
   "cell_type": "markdown",
   "id": "ec880d34",
   "metadata": {},
   "source": [
    "### Use of Tools"
   ]
  },
  {
   "cell_type": "code",
   "execution_count": 15,
   "id": "f3e415c1",
   "metadata": {},
   "outputs": [],
   "source": [
    "sales_agent1 = Agent(\n",
    "    name = \"Professional Sales Agent\",\n",
    "    instructions= instructions1,\n",
    "    model = 'gpt-4o-mini'\n",
    ")\n",
    "\n",
    "sales_agent2 = Agent(\n",
    "    name = \"Engaging Sales Agent\",\n",
    "    instructions= instructions2,\n",
    "    model = 'gpt-4o-mini'\n",
    ")\n",
    "\n",
    "sales_agent3 = Agent(\n",
    "    name = \"Busy Sales Agent\",\n",
    "    instructions= instructions3,\n",
    "    model = 'gpt-4o-mini'\n",
    ")"
   ]
  },
  {
   "cell_type": "code",
   "execution_count": 16,
   "id": "b72fafcc",
   "metadata": {},
   "outputs": [
    {
     "data": {
      "text/plain": [
       "Agent(name='Professional Sales Agent', handoff_description=None, tools=[], mcp_servers=[], mcp_config={}, instructions='You are a sales agent working for InsightStat, which is a company offering data science solutions. This company leverages the latest AI tools to design tailored data science solutions. Your job is to write cold emails that are serious and professional\\n', prompt=None, handoffs=[], model='gpt-4o-mini', model_settings=ModelSettings(temperature=None, top_p=None, frequency_penalty=None, presence_penalty=None, tool_choice=None, parallel_tool_calls=None, truncation=None, max_tokens=None, reasoning=None, verbosity=None, metadata=None, store=None, include_usage=None, response_include=None, top_logprobs=None, extra_query=None, extra_body=None, extra_headers=None, extra_args=None), input_guardrails=[], output_guardrails=[], output_type=None, hooks=None, tool_use_behavior='run_llm_again', reset_tool_choice=True)"
      ]
     },
     "execution_count": 16,
     "metadata": {},
     "output_type": "execute_result"
    }
   ],
   "source": [
    "sales_agent1"
   ]
  },
  {
   "cell_type": "code",
   "execution_count": 24,
   "id": "2cd44328",
   "metadata": {},
   "outputs": [],
   "source": [
    "from openai import api_key\n",
    "\n",
    "\n",
    "@function_tool\n",
    "def send_email(body:str):\n",
    "    \"\"\" Send out an email with the given body to all sales prospects\"\"\"\n",
    "    sg = sendgrid.SendGridAPIClient(api_key=os.environ.get('SENDGRID_API_KEY'))\n",
    "    from_email = Email(\"kausthab.phukan@gmail.com\")\n",
    "    to_email = To(\"kausthab.phukan@gmail.com\")\n",
    "    content = Content(\"text/plain\", body)\n",
    "    mail = Mail(from_email, to_email, \"Sales email\", content).get()\n",
    "    sg.client.mail.send.post(request_body = mail)\n",
    "    return {\"status\":\"success\"}"
   ]
  },
  {
   "cell_type": "code",
   "execution_count": 18,
   "id": "14002a7c",
   "metadata": {},
   "outputs": [
    {
     "data": {
      "text/plain": [
       "FunctionTool(name='send_email', description='Send out an email with the given body to all sales prospects', params_json_schema={'properties': {'body': {'title': 'Body', 'type': 'string'}}, 'required': ['body'], 'title': 'send_email_args', 'type': 'object', 'additionalProperties': False}, on_invoke_tool=<function function_tool.<locals>._create_function_tool.<locals>._on_invoke_tool at 0x000001BB9F12E7A0>, strict_json_schema=True, is_enabled=True)"
      ]
     },
     "execution_count": 18,
     "metadata": {},
     "output_type": "execute_result"
    }
   ],
   "source": [
    "send_email"
   ]
  },
  {
   "cell_type": "markdown",
   "id": "076152fc",
   "metadata": {},
   "source": [
    "Converting Agent into a tool"
   ]
  },
  {
   "cell_type": "code",
   "execution_count": 19,
   "id": "c11ba3cd",
   "metadata": {},
   "outputs": [
    {
     "data": {
      "text/plain": [
       "FunctionTool(name='sales_agent1', description='Write a cold sales email', params_json_schema={'properties': {'input': {'title': 'Input', 'type': 'string'}}, 'required': ['input'], 'title': 'sales_agent1_args', 'type': 'object', 'additionalProperties': False}, on_invoke_tool=<function function_tool.<locals>._create_function_tool.<locals>._on_invoke_tool at 0x000001BBA1BA02C0>, strict_json_schema=True, is_enabled=True)"
      ]
     },
     "execution_count": 19,
     "metadata": {},
     "output_type": "execute_result"
    }
   ],
   "source": [
    "tool1 = sales_agent1.as_tool(tool_name= \"sales_agent1\", tool_description= \"Write a cold sales email\")\n",
    "\n",
    "tool1"
   ]
  },
  {
   "cell_type": "markdown",
   "id": "4ecfcf61",
   "metadata": {},
   "source": [
    "If we can do it for 1, we can do it for all the others"
   ]
  },
  {
   "cell_type": "code",
   "execution_count": 20,
   "id": "9621f6f8",
   "metadata": {},
   "outputs": [
    {
     "data": {
      "text/plain": [
       "[FunctionTool(name='sales_agent1', description='Write a cold sales email', params_json_schema={'properties': {'input': {'title': 'Input', 'type': 'string'}}, 'required': ['input'], 'title': 'sales_agent1_args', 'type': 'object', 'additionalProperties': False}, on_invoke_tool=<function function_tool.<locals>._create_function_tool.<locals>._on_invoke_tool at 0x000001BBA1BA14E0>, strict_json_schema=True, is_enabled=True),\n",
       " FunctionTool(name='sales_agent2', description='Write a cold sales email', params_json_schema={'properties': {'input': {'title': 'Input', 'type': 'string'}}, 'required': ['input'], 'title': 'sales_agent2_args', 'type': 'object', 'additionalProperties': False}, on_invoke_tool=<function function_tool.<locals>._create_function_tool.<locals>._on_invoke_tool at 0x000001BBA1BA0AE0>, strict_json_schema=True, is_enabled=True),\n",
       " FunctionTool(name='sales_agent3', description='Write a cold sales email', params_json_schema={'properties': {'input': {'title': 'Input', 'type': 'string'}}, 'required': ['input'], 'title': 'sales_agent3_args', 'type': 'object', 'additionalProperties': False}, on_invoke_tool=<function function_tool.<locals>._create_function_tool.<locals>._on_invoke_tool at 0x000001BBA1BA09A0>, strict_json_schema=True, is_enabled=True),\n",
       " FunctionTool(name='send_email', description='Send out an email with the given body to all sales prospects', params_json_schema={'properties': {'body': {'title': 'Body', 'type': 'string'}}, 'required': ['body'], 'title': 'send_email_args', 'type': 'object', 'additionalProperties': False}, on_invoke_tool=<function function_tool.<locals>._create_function_tool.<locals>._on_invoke_tool at 0x000001BB9F12E7A0>, strict_json_schema=True, is_enabled=True)]"
      ]
     },
     "execution_count": 20,
     "metadata": {},
     "output_type": "execute_result"
    }
   ],
   "source": [
    "description = \"Write a cold sales email\"\n",
    "\n",
    "tool1 = sales_agent1.as_tool(tool_name= \"sales_agent1\", tool_description= description)\n",
    "tool2 = sales_agent2.as_tool(tool_name= \"sales_agent2\", tool_description= description)\n",
    "tool3 = sales_agent3.as_tool(tool_name= \"sales_agent3\", tool_description= description)\n",
    "\n",
    "tools = [tool1, tool2, tool3, send_email]\n",
    "\n",
    "tools"
   ]
  },
  {
   "cell_type": "markdown",
   "id": "9005c8b4",
   "metadata": {},
   "source": [
    "### Creating the Sales Manager that will select the best email to send"
   ]
  },
  {
   "cell_type": "code",
   "execution_count": null,
   "id": "32db3022",
   "metadata": {},
   "outputs": [],
   "source": [
    "instructions = \"\"\"You are Sales Manager at Insight Stat and responsible for looking over all the communications your sales agents send out to their prospects. \\\n",
    "    It is also your responsibility to select the best cold sales email using the sales agent tool. And this is how you should go about doing it:\n",
    "\n",
    "    1.  Use all the sales_agent tools to generate three different email drafts. Do not proceed until all the drafts have been prepared and are ready.\n",
    "\n",
    "    2. Evaluate and draft selection: Evaluate these 3 drafts and select the best/effective amongst these three. You do not need to give any explanation.\n",
    "\n",
    "    3.  Use the send_email tool to send the selected best email (only the best email) to the prospect \n",
    "\n",
    "    Critical rule:\n",
    "\n",
    "    - You must use the sales_agent tools to write the emails, never write the emails yourself\n",
    "\n",
    "    - You will use the send_email tool to send only one email to the prospect, and never send more than one email\n",
    "\"\"\"\n",
    "\n",
    "sales_manager = Agent(name= \"sales_manager\", instructions=instructions, tools=tools, model=\"gpt-4o-mini\")\n",
    "\n",
    "message = \"send a cold email to a prospect addressing 'Dear CEO' \"\n",
    "\n",
    "with trace(\"sales manager\"):\n",
    "    result = await Runner.run(sales_manager, message)"
   ]
  },
  {
   "cell_type": "code",
   "execution_count": null,
   "id": "95479041",
   "metadata": {},
   "outputs": [],
   "source": []
  },
  {
   "cell_type": "code",
   "execution_count": null,
   "id": "435f444a",
   "metadata": {},
   "outputs": [],
   "source": []
  }
 ],
 "metadata": {
  "kernelspec": {
   "display_name": ".venv",
   "language": "python",
   "name": "python3"
  },
  "language_info": {
   "codemirror_mode": {
    "name": "ipython",
    "version": 3
   },
   "file_extension": ".py",
   "mimetype": "text/x-python",
   "name": "python",
   "nbconvert_exporter": "python",
   "pygments_lexer": "ipython3",
   "version": "3.12.11"
  }
 },
 "nbformat": 4,
 "nbformat_minor": 5
}
