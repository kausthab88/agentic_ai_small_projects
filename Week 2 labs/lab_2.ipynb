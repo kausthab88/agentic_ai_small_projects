{
 "cells": [
  {
   "cell_type": "markdown",
   "id": "b441c75e",
   "metadata": {},
   "source": [
    "## Agentic AI Framework Project"
   ]
  },
  {
   "cell_type": "markdown",
   "id": "cf1c78d0",
   "metadata": {},
   "source": [
    "#### This notebook will showcase the follwoing:\n",
    "\n",
    "* Agent workflow\n",
    "* Use of tools to call functions\n",
    "* Agent collaboration via Tools and Handoffs"
   ]
  },
  {
   "cell_type": "code",
   "execution_count": 1,
   "id": "82a203ac",
   "metadata": {},
   "outputs": [],
   "source": [
    "import asyncio\n",
    "from dotenv import load_dotenv\n",
    "from agents import Agent, trace, Runner, function_tool\n",
    "from openai.types.responses import ResponseTextDeltaEvent\n",
    "from typing import Dict\n",
    "import sendgrid\n",
    "import os\n",
    "from sendgrid.helpers.mail import Mail, Email, To, Content\n",
    "import asyncio"
   ]
  },
  {
   "cell_type": "code",
   "execution_count": 2,
   "id": "639f1075",
   "metadata": {},
   "outputs": [
    {
     "data": {
      "text/plain": [
       "True"
      ]
     },
     "execution_count": 2,
     "metadata": {},
     "output_type": "execute_result"
    }
   ],
   "source": [
    "load_dotenv(override=True)"
   ]
  },
  {
   "cell_type": "markdown",
   "id": "2c9d1cca",
   "metadata": {},
   "source": [
    "### Step1: Agent Workflow"
   ]
  },
  {
   "cell_type": "code",
   "execution_count": 3,
   "id": "17750f7a",
   "metadata": {},
   "outputs": [],
   "source": [
    "instructions1 = \"\"\"You are a sales agent working for InsightStat, which is a company offering data science solutions. This \\\n",
    "company leverages the latest AI tools to design tailored data science solutions. Your job is to write cold emails that are serious \\\n",
    "and professional\n",
    "\"\"\"\n",
    "\n",
    "instructions2 = \"\"\"You are a humorous, engaging sales agent working for InsightStat, which is a company offering data science solutions. This \\\n",
    "company leverages the latest AI tools to design tailored data science solutions. Your job is to write witty, engaging cold emails will likely get you \\\n",
    "a response\"\"\"\n",
    "\n",
    "instructions3 = \"\"\"You are a busy ales agent working for InsightStat, which is a company offering data science solutions. This\n",
    "company leverages the latest AI tools to design tailored data science solutions. Your job is to write serious cold emails that are concise\n",
    "and to the point\"\"\""
   ]
  },
  {
   "cell_type": "code",
   "execution_count": 4,
   "id": "7e3cce11",
   "metadata": {},
   "outputs": [],
   "source": [
    "sales_agent1 = Agent(\n",
    "    name = \"Professional Sales Agent\",\n",
    "    instructions= instructions1,\n",
    "    model = 'gpt-4o-mini'\n",
    ")\n",
    "\n",
    "sales_agent2 = Agent(\n",
    "    name = \"Engaging Sales Agent\",\n",
    "    instructions= instructions2,\n",
    "    model = 'gpt-4o-mini'\n",
    ")\n",
    "\n",
    "sales_agent3 = Agent(\n",
    "    name = \"Busy Sales Agent\",\n",
    "    instructions= instructions3,\n",
    "    model = 'gpt-4o-mini'\n",
    ")"
   ]
  },
  {
   "cell_type": "code",
   "execution_count": 5,
   "id": "287db999",
   "metadata": {},
   "outputs": [
    {
     "name": "stdout",
     "output_type": "stream",
     "text": [
      "Subject: Unlock the Power of Data Science with InsightStat\n",
      "\n",
      "Dear [Recipient's Name],\n",
      "\n",
      "I hope this message finds you well.\n",
      "\n",
      "I’m [Your Name], a sales consultant at InsightStat, and I wanted to reach out to discuss how our specialized data science solutions can help your organization leverage the power of data to drive informed decisions and achieve your strategic goals.\n",
      "\n",
      "At InsightStat, we recognize that every business has unique challenges. Our team utilizes the latest AI tools and methodologies to create tailored solutions that can enable you to:\n",
      "\n",
      "- Gain actionable insights from your data\n",
      "- Optimize processes to improve efficiency\n",
      "- Enhance customer experiences through predictive analytics\n",
      "\n",
      "We have successfully partnered with companies in various sectors, helping them transform their data into a valuable asset. I would love to discuss how we can support your specific goals and challenges.\n",
      "\n",
      "Would you be available for a quick call next week? Please let me know a time that works for you, or feel free to suggest an alternative.\n",
      "\n",
      "Thank you for considering InsightStat. I look forward to the possibility of collaborating with you.\n",
      "\n",
      "Best regards,\n",
      "\n",
      "[Your Name]  \n",
      "[Your Job Title]  \n",
      "InsightStat  \n",
      "[Your Phone Number]  \n",
      "[Your Email]  \n",
      "[Company Website URL]  "
     ]
    }
   ],
   "source": [
    "result = Runner.run_streamed(sales_agent1, input= \"Write a cold sales email\")\n",
    "async for event in result.stream_events():\n",
    "    if event.type == \"raw_response_event\" and isinstance(event.data, ResponseTextDeltaEvent):\n",
    "        print(event.data.delta, end = \"\", flush=True)"
   ]
  },
  {
   "cell_type": "code",
   "execution_count": 6,
   "id": "23c0cb0e",
   "metadata": {},
   "outputs": [
    {
     "name": "stdout",
     "output_type": "stream",
     "text": [
      "Subject: Unlock New Insights with Tailored Data Science Solutions\n",
      "\n",
      "Dear [Recipient's Name],\n",
      "\n",
      "I hope this email finds you well. My name is [Your Name], and I’m reaching out on behalf of InsightStat, where we specialize in providing cutting-edge data science solutions tailored to meet the unique needs of our clients.\n",
      "\n",
      "In today's data-driven landscape, harnessing the power of information is crucial for making informed decisions and gaining a competitive edge. At InsightStat, we leverage advanced AI tools and a team of experienced data scientists to help organizations like yours uncover insights, optimize processes, and drive growth.\n",
      "\n",
      "Whether you are looking to improve predictive analytics, automate reporting, or unlock hidden patterns in your data, we can design a solution that aligns perfectly with your business objectives.\n",
      "\n",
      "I would love to arrange a brief call to discuss how InsightStat can support your data initiatives and answer any questions you may have. What does your schedule look like this week?\n",
      "\n",
      "Thank you for considering this opportunity. I look forward to the possibility of working together to drive your data strategy forward.\n",
      "\n",
      "Best regards,\n",
      "\n",
      "[Your Name]  \n",
      "[Your Position]  \n",
      "InsightStat  \n",
      "[Your Phone Number]  \n",
      "[Your Email Address]  \n",
      "[Website URL]   \n",
      "\n",
      "\n",
      "Subject: Are Your Data Dreams Just a Pipe Dream? Let’s Make Them a Reality!\n",
      "\n",
      "Hi [First Name],\n",
      "\n",
      "Ever feel like your data is just staring at you, waiting for someone to unlock its secrets? I get it—data can be like that awkward guest at a party: it shows up uninvited, refuses to mingle, and just sits there in the corner looking mysterious.\n",
      "\n",
      "Allow me to introduce you to InsightStat, where we specialize in transforming your data from party wallflower to the life of the bash! 🎉 Our AI-powered solutions are designed to tailor-fit your needs (like a well-tailored suit, but for data).\n",
      "\n",
      "Imagine having all that data not just sitting there, but actively working for you—predicting trends, uncovering insights, and maybe even giving you a heads-up when your coffee supply is running low. (We can’t promise it'll wake you up in the morning though!)\n",
      "\n",
      "Let’s chat about how we can turn your data into your new best friend. I promise it won’t be awkward!\n",
      "\n",
      "Best,  \n",
      "[Your Name]  \n",
      "[Your Job Title]  \n",
      "InsightStat  \n",
      "P.S. The first chat is free! So why not give it a go? Your data will thank you! 📊✨ \n",
      "\n",
      "\n",
      "Subject: Unlock Data-Driven Insights for Your Business\n",
      "\n",
      "Hi [Recipient's Name],\n",
      "\n",
      "I hope this message finds you well. I'm [Your Name] from InsightStat, where we specialize in leveraging advanced AI tools to develop tailored data science solutions for businesses like yours.\n",
      "\n",
      "In today’s competitive landscape, making informed decisions based on data is crucial. Our solutions streamline data analysis, enhance predictive modeling, and drive actionable insights, enabling you to focus on growth and innovation.\n",
      "\n",
      "I'd love to schedule a brief call to discuss how we can support your data initiatives and help you achieve your goals. Would next week work for you?\n",
      "\n",
      "Looking forward to the opportunity.\n",
      "\n",
      "Best regards,  \n",
      "[Your Name]  \n",
      "[Your Position]  \n",
      "InsightStat  \n",
      "[Your Phone Number]  \n",
      "[Your LinkedIn Profile]   \n",
      "\n",
      "\n"
     ]
    }
   ],
   "source": [
    "message = \"Write a cold sales email\"\n",
    "\n",
    "with trace(\"Parallel cold emails\"):\n",
    "    results = await asyncio.gather(\n",
    "        Runner.run(sales_agent1,message),\n",
    "        Runner.run(sales_agent2,message),\n",
    "        Runner.run(sales_agent3,message)\n",
    "    )\n",
    "\n",
    "outputs = [result.final_output for result in results]\n",
    "\n",
    "for output in outputs:\n",
    "    print(output, \"\\n\\n\")"
   ]
  },
  {
   "cell_type": "code",
   "execution_count": 7,
   "id": "85cd5e14",
   "metadata": {},
   "outputs": [],
   "source": [
    "sales_picker = Agent(\n",
    "    name = \"sales_picker\",\n",
    "    instructions = \"You have to pick the best cold sales email from the given oprions \\\n",
    "        Imagine you are a customer who will respond to one of the emails that you liked the best \\\n",
    "        Do not give any explanation. Just return the best email\",\n",
    "        model= \"gpt-4o-mini\" \n",
    ")"
   ]
  },
  {
   "cell_type": "code",
   "execution_count": 8,
   "id": "7fa89edf",
   "metadata": {},
   "outputs": [
    {
     "name": "stdout",
     "output_type": "stream",
     "text": [
      "Best sales email:\n",
      "Subject: Let’s Make Your Data Dance! 💃📊\n",
      "\n",
      "Hi [Recipient's Name],\n",
      "\n",
      "I hope this email finds you swimming in data and not drowning in spreadsheets! 🏊‍♂️ If you’re like most companies these days, your data is both your best friend and that friend who always wants to talk about their cat's dietary preferences—endlessly fascinating but possibly overwhelming.\n",
      "\n",
      "At InsightStat, we believe data should work for you, not the other way around. Think of us as your personal trainers for data science—turning those heavy datasets into lean, mean insights machines! 💪✨\n",
      "\n",
      "We specialize in tailoring AI-powered solutions that fit your unique business needs. Whether you want to predict customer trends, optimize operations, or just figure out why your last campaign fell flatter than a pancake at a bad brunch, we’ve got your back.\n",
      "\n",
      "Fancy a chat over a virtual coffee? I promise to bring the insights and leave the data puns at the door (well, mostly). Let’s turn your data dilemmas into data delights!\n",
      "\n",
      "Looking forward to hearing from you!\n",
      "\n",
      "Best,  \n",
      "[Your Name]  \n",
      "Sales Wizard | InsightStat  \n",
      "[Your Phone Number]  \n",
      "[Your LinkedIn]  \n",
      "\n",
      "P.S. If data could talk, it would definitely recommend us! 😄\n"
     ]
    }
   ],
   "source": [
    "message = \"Write a cold sales email\"\n",
    "\n",
    "with trace(\"Selection from sales people\"):\n",
    "    results = await asyncio.gather(\n",
    "        Runner.run(sales_agent1,message),\n",
    "        Runner.run(sales_agent2,message),\n",
    "        Runner.run(sales_agent3,message)\n",
    "    )\n",
    "\n",
    "outputs = [result.final_output for result in results]\n",
    "\n",
    "emails = \"Cold sales emails:\\n\\n\" + \"\\n\\nEmail: \\n\\n\".join(outputs)\n",
    "\n",
    "best = await Runner.run(sales_picker, emails)\n",
    "\n",
    "print(f\"Best sales email:\\n{best.final_output}\")\n"
   ]
  },
  {
   "cell_type": "markdown",
   "id": "ec880d34",
   "metadata": {},
   "source": [
    "### Use of Tools"
   ]
  },
  {
   "cell_type": "code",
   "execution_count": 9,
   "id": "f3e415c1",
   "metadata": {},
   "outputs": [],
   "source": [
    "sales_agent1 = Agent(\n",
    "    name = \"Professional Sales Agent\",\n",
    "    instructions= instructions1,\n",
    "    model = 'gpt-4o-mini'\n",
    ")\n",
    "\n",
    "sales_agent2 = Agent(\n",
    "    name = \"Engaging Sales Agent\",\n",
    "    instructions= instructions2,\n",
    "    model = 'gpt-4o-mini'\n",
    ")\n",
    "\n",
    "sales_agent3 = Agent(\n",
    "    name = \"Busy Sales Agent\",\n",
    "    instructions= instructions3,\n",
    "    model = 'gpt-4o-mini'\n",
    ")"
   ]
  },
  {
   "cell_type": "code",
   "execution_count": 10,
   "id": "b72fafcc",
   "metadata": {},
   "outputs": [
    {
     "data": {
      "text/plain": [
       "Agent(name='Professional Sales Agent', handoff_description=None, tools=[], mcp_servers=[], mcp_config={}, instructions='You are a sales agent working for InsightStat, which is a company offering data science solutions. This company leverages the latest AI tools to design tailored data science solutions. Your job is to write cold emails that are serious and professional\\n', prompt=None, handoffs=[], model='gpt-4o-mini', model_settings=ModelSettings(temperature=None, top_p=None, frequency_penalty=None, presence_penalty=None, tool_choice=None, parallel_tool_calls=None, truncation=None, max_tokens=None, reasoning=None, verbosity=None, metadata=None, store=None, include_usage=None, response_include=None, top_logprobs=None, extra_query=None, extra_body=None, extra_headers=None, extra_args=None), input_guardrails=[], output_guardrails=[], output_type=None, hooks=None, tool_use_behavior='run_llm_again', reset_tool_choice=True)"
      ]
     },
     "execution_count": 10,
     "metadata": {},
     "output_type": "execute_result"
    }
   ],
   "source": [
    "sales_agent1"
   ]
  },
  {
   "cell_type": "code",
   "execution_count": 11,
   "id": "2cd44328",
   "metadata": {},
   "outputs": [],
   "source": [
    "@function_tool\n",
    "def send_email(body:str):\n",
    "    \"\"\" Send out an email with the given body to all sales prospects\"\"\"\n",
    "    sg = sendgrid.SendGridAPIClient(api_key=os.environ['SENDGRID_API_KEY'])\n",
    "    from_email = Email(\"kausthab.phukan@gmail.com\")\n",
    "    to_email = To(\"kausthab.phukan@gmail.com\")\n",
    "    content = Content(\"text/plain\", body)\n",
    "    mail = Mail(from_email, to_email, \"Sales email\", content)\n",
    "    sg.send(mail)\n",
    "    return {\"status\":\"success\"}"
   ]
  },
  {
   "cell_type": "code",
   "execution_count": 12,
   "id": "14002a7c",
   "metadata": {},
   "outputs": [
    {
     "data": {
      "text/plain": [
       "FunctionTool(name='send_email', description='Send out an email with the given body to all sales prospects', params_json_schema={'properties': {'body': {'title': 'Body', 'type': 'string'}}, 'required': ['body'], 'title': 'send_email_args', 'type': 'object', 'additionalProperties': False}, on_invoke_tool=<function function_tool.<locals>._create_function_tool.<locals>._on_invoke_tool at 0x000001A0CD926B60>, strict_json_schema=True, is_enabled=True)"
      ]
     },
     "execution_count": 12,
     "metadata": {},
     "output_type": "execute_result"
    }
   ],
   "source": [
    "send_email"
   ]
  },
  {
   "cell_type": "markdown",
   "id": "076152fc",
   "metadata": {},
   "source": [
    "Converting Agent into a tool"
   ]
  },
  {
   "cell_type": "code",
   "execution_count": 13,
   "id": "c11ba3cd",
   "metadata": {},
   "outputs": [
    {
     "data": {
      "text/plain": [
       "FunctionTool(name='sales_agent1', description='Write a cold sales email', params_json_schema={'properties': {'input': {'title': 'Input', 'type': 'string'}}, 'required': ['input'], 'title': 'sales_agent1_args', 'type': 'object', 'additionalProperties': False}, on_invoke_tool=<function function_tool.<locals>._create_function_tool.<locals>._on_invoke_tool at 0x000001A0CD983740>, strict_json_schema=True, is_enabled=True)"
      ]
     },
     "execution_count": 13,
     "metadata": {},
     "output_type": "execute_result"
    }
   ],
   "source": [
    "tool1 = sales_agent1.as_tool(tool_name= \"sales_agent1\", tool_description= \"Write a cold sales email\")\n",
    "\n",
    "tool1"
   ]
  },
  {
   "cell_type": "markdown",
   "id": "4ecfcf61",
   "metadata": {},
   "source": [
    "If we can do it for 1, we can do it for all the others"
   ]
  },
  {
   "cell_type": "code",
   "execution_count": 14,
   "id": "9621f6f8",
   "metadata": {},
   "outputs": [
    {
     "data": {
      "text/plain": [
       "[FunctionTool(name='sales_agent1', description='Write a cold sales email', params_json_schema={'properties': {'input': {'title': 'Input', 'type': 'string'}}, 'required': ['input'], 'title': 'sales_agent1_args', 'type': 'object', 'additionalProperties': False}, on_invoke_tool=<function function_tool.<locals>._create_function_tool.<locals>._on_invoke_tool at 0x000001A0CD982340>, strict_json_schema=True, is_enabled=True),\n",
       " FunctionTool(name='sales_agent2', description='Write a cold sales email', params_json_schema={'properties': {'input': {'title': 'Input', 'type': 'string'}}, 'required': ['input'], 'title': 'sales_agent2_args', 'type': 'object', 'additionalProperties': False}, on_invoke_tool=<function function_tool.<locals>._create_function_tool.<locals>._on_invoke_tool at 0x000001A0CD9720C0>, strict_json_schema=True, is_enabled=True),\n",
       " FunctionTool(name='sales_agent3', description='Write a cold sales email', params_json_schema={'properties': {'input': {'title': 'Input', 'type': 'string'}}, 'required': ['input'], 'title': 'sales_agent3_args', 'type': 'object', 'additionalProperties': False}, on_invoke_tool=<function function_tool.<locals>._create_function_tool.<locals>._on_invoke_tool at 0x000001A0CD981DA0>, strict_json_schema=True, is_enabled=True),\n",
       " FunctionTool(name='send_email', description='Send out an email with the given body to all sales prospects', params_json_schema={'properties': {'body': {'title': 'Body', 'type': 'string'}}, 'required': ['body'], 'title': 'send_email_args', 'type': 'object', 'additionalProperties': False}, on_invoke_tool=<function function_tool.<locals>._create_function_tool.<locals>._on_invoke_tool at 0x000001A0CD926B60>, strict_json_schema=True, is_enabled=True)]"
      ]
     },
     "execution_count": 14,
     "metadata": {},
     "output_type": "execute_result"
    }
   ],
   "source": [
    "description = \"Write a cold sales email\"\n",
    "\n",
    "tool1 = sales_agent1.as_tool(tool_name= \"sales_agent1\", tool_description= description)\n",
    "tool2 = sales_agent2.as_tool(tool_name= \"sales_agent2\", tool_description= description)\n",
    "tool3 = sales_agent3.as_tool(tool_name= \"sales_agent3\", tool_description= description)\n",
    "\n",
    "tools = [tool1, tool2, tool3, send_email]\n",
    "\n",
    "tools"
   ]
  },
  {
   "cell_type": "markdown",
   "id": "9005c8b4",
   "metadata": {},
   "source": [
    "### Creating the Sales Manager that will select the best email to send"
   ]
  },
  {
   "cell_type": "code",
   "execution_count": 16,
   "id": "32db3022",
   "metadata": {},
   "outputs": [],
   "source": [
    "instructions = \"\"\"You are Sales Manager at Insight Stat and responsible for looking over all the communications your sales agents send out to their prospects. \\\n",
    "    It is also your responsibility to select the best cold sales email using the sales agent tool. And this is how you should go about doing it:\n",
    "\n",
    "    1.  Use the sales_agent1, sales_agent2, and sales_agent3 tools to generate three different email drafts. Call each tool once to get one draft from each. \\\n",
    "    Do not proceed until all the drafts have been prepared and are ready.\n",
    "\n",
    "\n",
    "    2. Evaluate and draft selection: Evaluate these 3 drafts and select the best/effective amongst these three. You do not need to give any explanation.\n",
    "\n",
    "    3.  Use the send_email tool to send the selected best email (only the best email) to the prospect \n",
    "\n",
    "    Critical rule:\n",
    "\n",
    "    - You must use the  sales_agent1, sales_agent2, and sales_agent3 tools to write the emails, never write the emails yourself\n",
    "\n",
    "    - You will use the send_email tool to send only one email to the prospect, and never send more than one email\n",
    "\"\"\"\n",
    "\n",
    "sales_manager = Agent(name= \"sales_manager\", instructions=instructions, tools=tools, model=\"gpt-4o-mini\")\n",
    "\n",
    "message = \"send a cold email to a prospect addressing 'Dear CEO' \"\n",
    "\n",
    "with trace(\"sales manager\"):\n",
    "    result = await Runner.run(sales_manager, message, max_turns=30)"
   ]
  },
  {
   "cell_type": "markdown",
   "id": "c9173995",
   "metadata": {},
   "source": [
    "## Handoffs"
   ]
  },
  {
   "cell_type": "code",
   "execution_count": 17,
   "id": "95479041",
   "metadata": {},
   "outputs": [],
   "source": [
    "subject_instruction = \"You are an expert in writing cold email subjects \\\n",
    "    You will be given the body of a cold email and you have to come up with an engaging subject \\\n",
    "    Such that it will generate a response\"\n",
    "\n",
    "html_instruction = \"You are an expert in converting text mail body to HTML email body \\\n",
    "    You are given an email with text body that might also contain markdown elements \\\n",
    "    You have to convert it into an HTML layout with simple, clear and compelling layout and design\"\n",
    "\n",
    "subject_writer = Agent(name = \"subject_writer\", instructions=subject_instruction, model = \"gpt-4o-mini\")\n",
    "subject_tool = subject_writer.as_tool(tool_name = \"subject_writer\", tool_description= \"write an engaging subject line for a cold sales email\")\n",
    "\n",
    "\n",
    "html_converter = Agent(name= \"html_converter\", instructions= html_instruction, model = 'gpt-4o-mini')\n",
    "html_tool = html_converter.as_tool(tool_name= \"html_converter\", tool_description= \"convert a plain or text body email into a html email body\")"
   ]
  },
  {
   "cell_type": "code",
   "execution_count": 18,
   "id": "435f444a",
   "metadata": {},
   "outputs": [],
   "source": [
    "@function_tool\n",
    "def send_html_email(subject:str, html_body:str) -> Dict[str,str]:\n",
    "    \"\"\" Send out an email with given subject and HTML body to all sales prospects\"\"\"\n",
    "    sg = sendgrid.SendGridAPIClient(api_key=os.environ['SENDGRID_API_KEY'])\n",
    "    from_email = Email(\"kausthab.phukan@gmail.com\")\n",
    "    to_email = To(\"kausthab.phukan@gmail.com\")\n",
    "    content = Content(\"text/html\",html_body)\n",
    "    mail = Mail(from_email, to_email, subject, content)\n",
    "    sg.send(mail)\n",
    "    return {\"status\":\"success\"}"
   ]
  },
  {
   "cell_type": "code",
   "execution_count": 19,
   "id": "4282eaed",
   "metadata": {},
   "outputs": [],
   "source": [
    "tools = [subject_tool, html_tool, send_html_email]"
   ]
  },
  {
   "cell_type": "code",
   "execution_count": 20,
   "id": "e991bdc1",
   "metadata": {},
   "outputs": [
    {
     "data": {
      "text/plain": [
       "[FunctionTool(name='subject_writer', description='write an engaging subject line for a cold sales email', params_json_schema={'properties': {'input': {'title': 'Input', 'type': 'string'}}, 'required': ['input'], 'title': 'subject_writer_args', 'type': 'object', 'additionalProperties': False}, on_invoke_tool=<function function_tool.<locals>._create_function_tool.<locals>._on_invoke_tool at 0x000001A0CF40DEE0>, strict_json_schema=True, is_enabled=True),\n",
       " FunctionTool(name='html_converter', description='convert a plain or text body email into a html email body', params_json_schema={'properties': {'input': {'title': 'Input', 'type': 'string'}}, 'required': ['input'], 'title': 'html_converter_args', 'type': 'object', 'additionalProperties': False}, on_invoke_tool=<function function_tool.<locals>._create_function_tool.<locals>._on_invoke_tool at 0x000001A0CF40F740>, strict_json_schema=True, is_enabled=True),\n",
       " FunctionTool(name='send_html_email', description='Send out an email with given subject and HTML body to all sales prospects', params_json_schema={'properties': {'subject': {'title': 'Subject', 'type': 'string'}, 'html_body': {'title': 'Html Body', 'type': 'string'}}, 'required': ['subject', 'html_body'], 'title': 'send_html_email_args', 'type': 'object', 'additionalProperties': False}, on_invoke_tool=<function function_tool.<locals>._create_function_tool.<locals>._on_invoke_tool at 0x000001A0CD983CE0>, strict_json_schema=True, is_enabled=True)]"
      ]
     },
     "execution_count": 20,
     "metadata": {},
     "output_type": "execute_result"
    }
   ],
   "source": [
    "tools"
   ]
  },
  {
   "cell_type": "code",
   "execution_count": 21,
   "id": "e0b56633",
   "metadata": {},
   "outputs": [],
   "source": [
    "\n",
    "instructions =\"You are an email formatter and sender. You receive the body of an email to be sent. \\\n",
    "You first use the subject_writer tool to write a subject for the email, then use the html_converter tool to convert the body to HTML. \\\n",
    "Finally, you use the send_html_email tool to send the email with the subject and HTML body.\"\n",
    "\n",
    "emailer_agent = Agent(name = \"Email Manager\",\n",
    "            instructions=instructions,\n",
    "            tools = tools,\n",
    "            model= \"gpt-4o-mini\",\n",
    "            handoff_description= \"Convert an email into HTML and send it\"\n",
    "                )"
   ]
  },
  {
   "cell_type": "code",
   "execution_count": 22,
   "id": "42fcebf7",
   "metadata": {},
   "outputs": [
    {
     "name": "stdout",
     "output_type": "stream",
     "text": [
      "[FunctionTool(name='sales_agent1', description='Write a cold sales email', params_json_schema={'properties': {'input': {'title': 'Input', 'type': 'string'}}, 'required': ['input'], 'title': 'sales_agent1_args', 'type': 'object', 'additionalProperties': False}, on_invoke_tool=<function function_tool.<locals>._create_function_tool.<locals>._on_invoke_tool at 0x000001A0CD982340>, strict_json_schema=True, is_enabled=True), FunctionTool(name='sales_agent2', description='Write a cold sales email', params_json_schema={'properties': {'input': {'title': 'Input', 'type': 'string'}}, 'required': ['input'], 'title': 'sales_agent2_args', 'type': 'object', 'additionalProperties': False}, on_invoke_tool=<function function_tool.<locals>._create_function_tool.<locals>._on_invoke_tool at 0x000001A0CD9720C0>, strict_json_schema=True, is_enabled=True), FunctionTool(name='sales_agent3', description='Write a cold sales email', params_json_schema={'properties': {'input': {'title': 'Input', 'type': 'string'}}, 'required': ['input'], 'title': 'sales_agent3_args', 'type': 'object', 'additionalProperties': False}, on_invoke_tool=<function function_tool.<locals>._create_function_tool.<locals>._on_invoke_tool at 0x000001A0CD981DA0>, strict_json_schema=True, is_enabled=True)]\n",
      "[Agent(name='Email Manager', handoff_description='Convert an email into HTML and send it', tools=[FunctionTool(name='subject_writer', description='write an engaging subject line for a cold sales email', params_json_schema={'properties': {'input': {'title': 'Input', 'type': 'string'}}, 'required': ['input'], 'title': 'subject_writer_args', 'type': 'object', 'additionalProperties': False}, on_invoke_tool=<function function_tool.<locals>._create_function_tool.<locals>._on_invoke_tool at 0x000001A0CF40DEE0>, strict_json_schema=True, is_enabled=True), FunctionTool(name='html_converter', description='convert a plain or text body email into a html email body', params_json_schema={'properties': {'input': {'title': 'Input', 'type': 'string'}}, 'required': ['input'], 'title': 'html_converter_args', 'type': 'object', 'additionalProperties': False}, on_invoke_tool=<function function_tool.<locals>._create_function_tool.<locals>._on_invoke_tool at 0x000001A0CF40F740>, strict_json_schema=True, is_enabled=True), FunctionTool(name='send_html_email', description='Send out an email with given subject and HTML body to all sales prospects', params_json_schema={'properties': {'subject': {'title': 'Subject', 'type': 'string'}, 'html_body': {'title': 'Html Body', 'type': 'string'}}, 'required': ['subject', 'html_body'], 'title': 'send_html_email_args', 'type': 'object', 'additionalProperties': False}, on_invoke_tool=<function function_tool.<locals>._create_function_tool.<locals>._on_invoke_tool at 0x000001A0CD983CE0>, strict_json_schema=True, is_enabled=True)], mcp_servers=[], mcp_config={}, instructions='You are an email formatter and sender. You receive the body of an email to be sent. You first use the subject_writer tool to write a subject for the email, then use the html_converter tool to convert the body to HTML. Finally, you use the send_html_email tool to send the email with the subject and HTML body.', prompt=None, handoffs=[], model='gpt-4o-mini', model_settings=ModelSettings(temperature=None, top_p=None, frequency_penalty=None, presence_penalty=None, tool_choice=None, parallel_tool_calls=None, truncation=None, max_tokens=None, reasoning=None, verbosity=None, metadata=None, store=None, include_usage=None, response_include=None, top_logprobs=None, extra_query=None, extra_body=None, extra_headers=None, extra_args=None), input_guardrails=[], output_guardrails=[], output_type=None, hooks=None, tool_use_behavior='run_llm_again', reset_tool_choice=True)]\n"
     ]
    }
   ],
   "source": [
    "tools = [tool1, tool2, tool3]\n",
    "handoffs = [emailer_agent]\n",
    "print(tools)\n",
    "print(handoffs)"
   ]
  },
  {
   "cell_type": "code",
   "execution_count": 23,
   "id": "fd7edeb2",
   "metadata": {},
   "outputs": [],
   "source": [
    "sales_manager_instructions =  \"\"\"You are Sales Manager at Insight Stat and responsible for looking over all the communications your sales agents send out to their prospects. \\\n",
    "    It is also your responsibility to select the best cold sales email using the sales agent tool. And this is how you should go about doing it:\n",
    "\n",
    "    1.  Use the sales_agent1, sales_agent2, and sales_agent3 tools to generate three different email drafts. Call each tool once to get one draft from each. \\\n",
    "    Do not proceed until all the drafts have been prepared and are ready.\n",
    "\n",
    "\n",
    "    2. Evaluate and draft selection: Evaluate these 3 drafts and select the best/effective amongst these three. You do not need to give any explanation.\n",
    "    You can call the tools multiple times if you are not satisfied with the drafts from the first try\n",
    "\n",
    "    3. For Handoff and Sending: send only the best winning Email to the \"Email Manager\" agent. The Email Manager agent will take care of formatting and sending\n",
    "\n",
    "    Critical rule:\n",
    "\n",
    "    - You must use the  sales_agent1, sales_agent2, and sales_agent3 tools to write the emails, never write the emails yourself\n",
    "\n",
    "    - You will Hand Off one and only one email to the Email Manager agent - never more than one\n",
    "\"\"\"\n",
    "\n",
    "sales_manager = Agent(name = \"Sales Manager\",\n",
    "        instructions= sales_manager_instructions,\n",
    "        tools = tools,\n",
    "        handoffs=handoffs,\n",
    "        model = \"gpt-4o-mini\")\n",
    "\n",
    "message = \"Send a cold sales email to 'Dear CEO' from Kevin\"\n",
    "\n",
    "with trace(\"Automated SDR\"):\n",
    "    result = await Runner.run(sales_manager, message, max_turns=30)"
   ]
  },
  {
   "cell_type": "code",
   "execution_count": null,
   "id": "2a06cf97",
   "metadata": {},
   "outputs": [],
   "source": []
  },
  {
   "cell_type": "code",
   "execution_count": null,
   "id": "8203c69b",
   "metadata": {},
   "outputs": [],
   "source": []
  },
  {
   "cell_type": "code",
   "execution_count": null,
   "id": "d58fbe03",
   "metadata": {},
   "outputs": [],
   "source": []
  },
  {
   "cell_type": "code",
   "execution_count": null,
   "id": "201dade3",
   "metadata": {},
   "outputs": [],
   "source": []
  },
  {
   "cell_type": "code",
   "execution_count": null,
   "id": "1ae94f6d",
   "metadata": {},
   "outputs": [],
   "source": []
  },
  {
   "cell_type": "code",
   "execution_count": null,
   "id": "ff3385ec",
   "metadata": {},
   "outputs": [],
   "source": []
  },
  {
   "cell_type": "code",
   "execution_count": null,
   "id": "c9b3f332",
   "metadata": {},
   "outputs": [],
   "source": []
  },
  {
   "cell_type": "code",
   "execution_count": null,
   "id": "5ea4ecc1",
   "metadata": {},
   "outputs": [],
   "source": []
  }
 ],
 "metadata": {
  "kernelspec": {
   "display_name": ".venv",
   "language": "python",
   "name": "python3"
  },
  "language_info": {
   "codemirror_mode": {
    "name": "ipython",
    "version": 3
   },
   "file_extension": ".py",
   "mimetype": "text/x-python",
   "name": "python",
   "nbconvert_exporter": "python",
   "pygments_lexer": "ipython3",
   "version": "3.12.11"
  }
 },
 "nbformat": 4,
 "nbformat_minor": 5
}
